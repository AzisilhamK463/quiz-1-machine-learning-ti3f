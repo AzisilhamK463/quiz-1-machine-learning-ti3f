{
 "cells": [
  {
   "cell_type": "markdown",
   "metadata": {},
   "source": [
    "## Kuis 1\n",
    "\n",
    "Amalia Salsa Lutfiana\n",
    "3F/04/2141720228"
   ]
  },
  {
   "cell_type": "markdown",
   "metadata": {},
   "source": [
    "## Deskripsi Umum\n",
    "Anda diminta untuk melakukan klasifikasi dengan menggunakan algoritma Naive Bayes dan SVM untuk merekognisi tulisan tangan dari dataset MNIST"
   ]
  },
  {
   "cell_type": "markdown",
   "metadata": {},
   "source": [
    "## Tentang Dataset MNIST\n",
    "\n",
    "Dataset MNIST (Modified National Institute of Standards and Technology) merupakan dataset berupa citra grayscale dengan ukuran 28x28 yang berisi tulisan tangan dari digit angka 0-9. Jumlah data dalam dataset ini adalah 70.000 data."
   ]
  },
  {
   "cell_type": "markdown",
   "metadata": {},
   "source": [
    "## Detail Kuis\n",
    "\n",
    "**No. 1**\n",
    "\n",
    "Pastikan jumlah data setiap label angka (0-9). Apakah terdapat data imbalance pada dataset MNIST yang digunakan? Jelaskan jawaban kelompok Anda dan buktikan!"
   ]
  },
  {
   "cell_type": "code",
   "execution_count": 1,
   "metadata": {},
   "outputs": [
    {
     "name": "stderr",
     "output_type": "stream",
     "text": [
      "c:\\Users\\Hp\\anaconda3\\lib\\site-packages\\scipy\\__init__.py:146: UserWarning: A NumPy version >=1.16.5 and <1.23.0 is required for this version of SciPy (detected version 1.26.0\n",
      "  warnings.warn(f\"A NumPy version >={np_minversion} and <{np_maxversion}\"\n"
     ]
    },
    {
     "name": "stdout",
     "output_type": "stream",
     "text": [
      "**Author**: Yann LeCun, Corinna Cortes, Christopher J.C. Burges  \n",
      "**Source**: [MNIST Website](http://yann.lecun.com/exdb/mnist/) - Date unknown  \n",
      "**Please cite**:  \n",
      "\n",
      "The MNIST database of handwritten digits with 784 features, raw data available at: http://yann.lecun.com/exdb/mnist/. It can be split in a training set of the first 60,000 examples, and a test set of 10,000 examples  \n",
      "\n",
      "It is a subset of a larger set available from NIST. The digits have been size-normalized and centered in a fixed-size image. It is a good database for people who want to try learning techniques and pattern recognition methods on real-world data while spending minimal efforts on preprocessing and formatting. The original black and white (bilevel) images from NIST were size normalized to fit in a 20x20 pixel box while preserving their aspect ratio. The resulting images contain grey levels as a result of the anti-aliasing technique used by the normalization algorithm. the images were centered in a 28x28 image by computing the center of mass of the pixels, and translating the image so as to position this point at the center of the 28x28 field.  \n",
      "\n",
      "With some classification methods (particularly template-based methods, such as SVM and K-nearest neighbors), the error rate improves when the digits are centered by bounding box rather than center of mass. If you do this kind of pre-processing, you should report it in your publications. The MNIST database was constructed from NIST's NIST originally designated SD-3 as their training set and SD-1 as their test set. However, SD-3 is much cleaner and easier to recognize than SD-1. The reason for this can be found on the fact that SD-3 was collected among Census Bureau employees, while SD-1 was collected among high-school students. Drawing sensible conclusions from learning experiments requires that the result be independent of the choice of training set and test among the complete set of samples. Therefore it was necessary to build a new database by mixing NIST's datasets.  \n",
      "\n",
      "The MNIST training set is composed of 30,000 patterns from SD-3 and 30,000 patterns from SD-1. Our test set was composed of 5,000 patterns from SD-3 and 5,000 patterns from SD-1. The 60,000 pattern training set contained examples from approximately 250 writers. We made sure that the sets of writers of the training set and test set were disjoint. SD-1 contains 58,527 digit images written by 500 different writers. In contrast to SD-3, where blocks of data from each writer appeared in sequence, the data in SD-1 is scrambled. Writer identities for SD-1 is available and we used this information to unscramble the writers. We then split SD-1 in two: characters written by the first 250 writers went into our new training set. The remaining 250 writers were placed in our test set. Thus we had two sets with nearly 30,000 examples each. The new training set was completed with enough examples from SD-3, starting at pattern # 0, to make a full set of 60,000 training patterns. Similarly, the new test set was completed with SD-3 examples starting at pattern # 35,000 to make a full set with 60,000 test patterns. Only a subset of 10,000 test images (5,000 from SD-1 and 5,000 from SD-3) is available on this site. The full 60,000 sample training set is available.\n",
      "\n",
      "Downloaded from openml.org.\n"
     ]
    },
    {
     "data": {
      "text/plain": [
       "dict_keys(['data', 'target', 'frame', 'categories', 'feature_names', 'target_names', 'DESCR', 'details', 'url'])"
      ]
     },
     "execution_count": 1,
     "metadata": {},
     "output_type": "execute_result"
    }
   ],
   "source": [
    "# Mengunduh Dataset MNIST\n",
    "from sklearn.datasets import fetch_openml\n",
    "mnist = fetch_openml('mnist_784')\n",
    "\n",
    "# Membaca deskripsi dataset\n",
    "print(mnist.DESCR)\n",
    "\n",
    "# Melakukan inspeksi semua key dalam dataset\n",
    "mnist.keys()"
   ]
  },
  {
   "cell_type": "code",
   "execution_count": 2,
   "metadata": {},
   "outputs": [
    {
     "name": "stderr",
     "output_type": "stream",
     "text": [
      "c:\\Users\\Hp\\anaconda3\\lib\\site-packages\\pandas\\core\\arrays\\categorical.py:528: RuntimeWarning: invalid value encountered in cast\n",
      "  fill_value = lib.item_from_zerodim(np.array(np.nan).astype(dtype))\n"
     ]
    },
    {
     "name": "stdout",
     "output_type": "stream",
     "text": [
      "Label Angka  Jumlah Data\n",
      "     0          6903\n",
      "     1          7877\n",
      "     2          6990\n",
      "     3          7141\n",
      "     4          6824\n",
      "     5          6313\n",
      "     6          6876\n",
      "     7          7293\n",
      "     8          6825\n",
      "     9          6958\n"
     ]
    },
    {
     "data": {
      "image/png": "[encoded data removed]",
      "text/plain": [
       "<Figure size 576x360 with 1 Axes>"
      ]
     },
     "metadata": {
      "needs_background": "light"
     },
     "output_type": "display_data"
    }
   ],
   "source": [
    "import pandas as pd\n",
    "from sklearn.datasets import fetch_openml\n",
    "import matplotlib.pyplot as plt\n",
    "\n",
    "# Mengonversi data MNIST ke dalam bentuk DataFrame\n",
    "df = pd.DataFrame(data=mnist.data, columns=[f'pixel_{i}' for i in range(784)])\n",
    "\n",
    "# Menambahkan kolom target sebagai label\n",
    "df['target'] = mnist.target.astype(int) \n",
    "\n",
    "# Menghitung jumlah data pada setiap label\n",
    "label_counts = df['target'].value_counts().sort_index()\n",
    "\n",
    "# Menampilkan hasil perhitungan\n",
    "print(\"Label Angka  Jumlah Data\")\n",
    "for label, count in label_counts.iteritems():\n",
    "    print(f\"     {label}          {count}\")\n",
    "\n",
    "# Memvisualisasi grafik batang\n",
    "plt.figure(figsize=(8, 5))\n",
    "plt.bar(label_counts.index, label_counts.values, color='green')\n",
    "plt.xlabel('Label Angka')\n",
    "plt.ylabel('Jumlah Data')\n",
    "plt.title('Jumlah Data Pada Setiap Label Angka')\n",
    "plt.xticks(label_counts.index)\n",
    "plt.show()\n"
   ]
  },
  {
   "cell_type": "markdown",
   "metadata": {},
   "source": [
    "Dari hasil perhitungan di atas, tampak jumlah data untuk setiap label angka 0-9 yang relatif sama atau hampir serupa, sehingga dataset dianggap seimbang."
   ]
  },
  {
   "cell_type": "markdown",
   "metadata": {},
   "source": [
    "**No. 2**\n",
    "\n",
    "Tampilkan 15 buah citra pertama dari dataset MNIST berserta labelnya. Anda dapat menggunakan referensi dari Job Sheet 03."
   ]
  },
  {
   "cell_type": "code",
   "execution_count": 3,
   "metadata": {},
   "outputs": [
    {
     "data": {
      "image/png": "[encoded data removed]",
      "text/plain": [
       "<Figure size 864x432 with 15 Axes>"
      ]
     },
     "metadata": {
      "needs_background": "light"
     },
     "output_type": "display_data"
    }
   ],
   "source": [
    "from sklearn.datasets import fetch_openml\n",
    "import matplotlib.pyplot as plt\n",
    "\n",
    "# Memisahkan data fitur (X) dan target (y)\n",
    "X = mnist.data\n",
    "y = mnist.target.astype(int)\n",
    "\n",
    "# Menampilkan citra\n",
    "plt.figure(figsize=(12, 6))\n",
    "for i in range(15):\n",
    "    plt.subplot(3, 5, i + 1)\n",
    "    plt.imshow(X.iloc[i].values.reshape(28, 28), cmap='gray')\n",
    "    plt.title(f'Label: {y[i]}')\n",
    "    plt.axis('off')\n",
    "plt.show()"
   ]
  },
  {
   "cell_type": "markdown",
   "metadata": {},
   "source": [
    "**No 3**\n",
    "\n",
    "Lakukan proses ekstraksi fitur pada data MNIST. Pada proses ini, Anda diperbolehkan untuk\n",
    "    - Langsung menggunakan nilai asli dari citra (nilai asli setiap pixel dari dataset) sebagai fitur.\n",
    "    - Melakukan ekstraksi fitur lain seperti histogram, PCA, atau yang lainnya. Anda diperbolehkan melakukan ekspolarasi pada proses ini."
   ]
  },
  {
   "cell_type": "code",
   "execution_count": 4,
   "metadata": {},
   "outputs": [],
   "source": [
    "from sklearn.datasets import fetch_openml\n",
    "from sklearn.model_selection import train_test_split\n",
    "\n",
    "# Membagi dataset menjadi data latih dan data uji\n",
    "X_train, X_test, y_train, y_test = train_test_split(X, y, test_size=0.2, random_state=42)\n",
    "\n",
    "# Melakukan normalisasi nilai piksel\n",
    "X_train = X_train.astype('float32') / 255.0\n",
    "X_test = X_test.astype('float32') / 255.0"
   ]
  },
  {
   "cell_type": "code",
   "execution_count": 5,
   "metadata": {},
   "outputs": [
    {
     "data": {
      "image/png": "[encoded data removed]",
      "text/plain": [
       "<Figure size 576x288 with 1 Axes>"
      ]
     },
     "metadata": {
      "needs_background": "light"
     },
     "output_type": "display_data"
    }
   ],
   "source": [
    "import numpy as np\n",
    "import matplotlib.pyplot as plt\n",
    "from sklearn.datasets import fetch_openml\n",
    "\n",
    "# Mengambil citra pertama\n",
    "sample_image = X.iloc[0].values.reshape(28, 28)\n",
    "\n",
    "# Menghitung histogram citra\n",
    "def compute_histogram(image):\n",
    "    # Menghitung histogram citra\n",
    "    hist, _ = np.histogram(image, bins=256, range=(0, 256))\n",
    "    return hist\n",
    "\n",
    "# Menghitung histogram dari contoh citra\n",
    "sample_histogram = compute_histogram(sample_image)\n",
    "\n",
    "# Menampilkan histogram dari contoh citra\n",
    "plt.figure(figsize=(8, 4))\n",
    "plt.plot(sample_histogram, color='green')\n",
    "plt.title(\"Histogram dari Satu Citra MNIST\")\n",
    "plt.xlabel(\"Nilai Piksel\")\n",
    "plt.ylabel(\"Frekuensi\")\n",
    "plt.show()\n"
   ]
  },
  {
   "cell_type": "markdown",
   "metadata": {},
   "source": [
    "**No 4**\n",
    "\n",
    "Buatlah data training dan data testing menggunakan rasio 70:30, 80:20, 90:10."
   ]
  },
  {
   "cell_type": "code",
   "execution_count": 6,
   "metadata": {},
   "outputs": [
    {
     "name": "stdout",
     "output_type": "stream",
     "text": [
      "1. Rasio 70:30\n",
      "   Data Training: (49000, 784) (49000,)\n",
      "   Data Testing: (21000, 784) (21000,)\n",
      "\n",
      "2. Rasio 80:20\n",
      "   Data Training: (56000, 784) (56000,)\n",
      "   Data Testing: (14000, 784) (14000,)\n",
      "\n",
      "3. Rasio 90:10\n",
      "   Data Training: (63000, 784) (63000,)\n",
      "   Data Testing: (7000, 784) (7000,)\n",
      "\n"
     ]
    }
   ],
   "source": [
    "from sklearn.datasets import fetch_openml\n",
    "from sklearn.model_selection import train_test_split\n",
    "\n",
    "# Memisahkan fitur (X) dan target (y)\n",
    "X = mnist.data\n",
    "y = mnist.target\n",
    "\n",
    "# Membagi dataset menjadi data latih dan data uji\n",
    "# 70:30\n",
    "X_train_70, X_test_70, y_train_70, y_test_70 = train_test_split(X, y, test_size=0.3, random_state=42)\n",
    "\n",
    "# Menampilkan ukuran pada tiap data\n",
    "print(\"1. Rasio 70:30\")\n",
    "print(\"   Data Training:\", X_train_70.shape, y_train_70.shape)\n",
    "print(\"   Data Testing:\", X_test_70.shape, y_test_70.shape)\n",
    "print(\"\")\n",
    "\n",
    "# Membagi dataset menjadi data latih dan data uji\n",
    "# 80:20\n",
    "X_train_80, X_test_80, y_train_80, y_test_80 = train_test_split(X, y, test_size=0.2, random_state=42)\n",
    "print(\"2. Rasio 80:20\")\n",
    "print(\"   Data Training:\", X_train_80.shape, y_train_80.shape)\n",
    "print(\"   Data Testing:\", X_test_80.shape, y_test_80.shape)\n",
    "print(\"\")\n",
    "\n",
    "# Membagi dataset menjadi data latih dan data uji\n",
    "# 90:10\n",
    "X_train_90, X_test_90, y_train_90, y_test_90 = train_test_split(X, y, test_size=0.1, random_state=42)\n",
    "print(\"3. Rasio 90:10\")\n",
    "print(\"   Data Training:\", X_train_90.shape, y_train_90.shape)\n",
    "print(\"   Data Testing:\", X_test_90.shape, y_test_90.shape)\n",
    "print(\"\")"
   ]
  },
  {
   "cell_type": "markdown",
   "metadata": {},
   "source": [
    "**No. 5**\n",
    "\n",
    "Lakukan proses klasifikasi dengan menggunakan algoritma Naive Bayes dan SVM.\n",
    "   - Anda diperbolehkan untuk melakukan tunning parameter.\n",
    "   - Anda diperbolehkan mengeksplorasi jenis kernel yang digunakan pada SVM."
   ]
  },
  {
   "cell_type": "code",
   "execution_count": 7,
   "metadata": {},
   "outputs": [],
   "source": [
    "from sklearn.decomposition import PCA\n",
    "from sklearn.model_selection import GridSearchCV\n",
    "from sklearn.pipeline import make_pipeline\n",
    "# Tunning Paramater\n",
    "def train_model(model,param_grid,X,y):\n",
    "  grid = GridSearchCV(model, param_grid,n_jobs=-1)\n",
    "  %time grid.fit(X,y)\n",
    "  print(grid.best_params_)\n",
    "  print(grid.best_score_)\n",
    "\n",
    "  model = grid.best_estimator_\n",
    "  return model"
   ]
  },
  {
   "cell_type": "code",
   "execution_count": 8,
   "metadata": {},
   "outputs": [],
   "source": [
    "# Visualisasi hasil prediksi model\n",
    "def show_prediction(X,y,pred):\n",
    "\n",
    "  # Inisialisasi label yang benar (ground truth) dan label prediksi\n",
    "  true_labels = y\n",
    "  predicted_labels = pred\n",
    "\n",
    "  # Menampilkan citra dari data testing dengan label benar dan label prediksi\n",
    "  plt.figure(figsize=(12, 6))\n",
    "  for i in range(30):\n",
    "      plt.subplot(6, 5, i + 1)\n",
    "      plt.imshow(X[i].reshape(28, 28), cmap=\"gray\")\n",
    "\n",
    "      # Tentukan warna teks berdasarkan benar atau salah\n",
    "      if true_labels[i] == predicted_labels[i]:\n",
    "          text_color = 'black'  # Jika prediksi benar, teks berwarna hitam\n",
    "      else:\n",
    "          text_color = 'red'  # Jika prediksi salah, teks berwarna merah\n",
    "\n",
    "      plt.title(f\"True: {true_labels[i]}\\nPred: {predicted_labels[i]}\", color=text_color)\n",
    "      plt.axis(\"off\")\n",
    "  plt.tight_layout()\n",
    "  plt.show()"
   ]
  },
  {
   "cell_type": "code",
   "execution_count": 9,
   "metadata": {},
   "outputs": [],
   "source": [
    "from sklearn.svm import SVC\n",
    "from sklearn.decomposition import PCA\n",
    "pca = PCA(n_components=50)\n",
    "# Membuat model SVM\n",
    "svc = SVC(kernel='rbf', class_weight='balanced')\n",
    "model = make_pipeline(pca, svc)"
   ]
  },
  {
   "cell_type": "code",
   "execution_count": 10,
   "metadata": {},
   "outputs": [
    {
     "name": "stdout",
     "output_type": "stream",
     "text": [
      "Akurasi Naive Bayes (70:30): 0.550952380952381\n",
      "Akurasi Naive Bayes (80:20): 0.5515714285714286\n",
      "Akurasi Naive Bayes (90:10): 0.5634285714285714\n"
     ]
    }
   ],
   "source": [
    "from sklearn.naive_bayes import GaussianNB\n",
    "from sklearn.metrics import accuracy_score\n",
    "\n",
    "# Klasifikasi menggunakan Gaussian Naive Bayes 70:30\n",
    "gnb = GaussianNB()\n",
    "gnb.fit(X_train_70, y_train_70)\n",
    "y_pred_70_gaussian = gnb.predict(X_test_70)\n",
    "accuracy_70_gaussian = accuracy_score(y_test_70, y_pred_70_gaussian)\n",
    "print(\"Akurasi Naive Bayes (70:30):\", accuracy_70_gaussian)\n",
    "\n",
    "# Klasifikasi menggunakan Gaussian Naive Bayes 80:20\n",
    "gnb = GaussianNB()\n",
    "gnb.fit(X_train_80, y_train_80)\n",
    "y_pred_80_gaussian = gnb.predict(X_test_80)  # Perhatikan penggunaan X_test_80\n",
    "accuracy_80_gaussian = accuracy_score(y_test_80, y_pred_80_gaussian)\n",
    "print(\"Akurasi Naive Bayes (80:20):\", accuracy_80_gaussian)\n",
    "\n",
    "# Klasifikasi menggunakan Gaussian Naive Bayes 90:10\n",
    "gnb = GaussianNB()\n",
    "gnb.fit(X_train_90, y_train_90)\n",
    "y_pred_90_gaussian = gnb.predict(X_test_90)  # Perhatikan penggunaan X_test_90\n",
    "accuracy_90_gaussian = accuracy_score(y_test_90, y_pred_90_gaussian)\n",
    "print(\"Akurasi Naive Bayes (90:10):\", accuracy_90_gaussian)\n"
   ]
  },
  {
   "cell_type": "code",
   "execution_count": 11,
   "metadata": {},
   "outputs": [
    {
     "name": "stdout",
     "output_type": "stream",
     "text": [
      "Akurasi SVM (70:30) : 0.92\n",
      "Akurasi SVM (80:20) : 0.9210714285714285\n",
      "Akurasi SVM (90:10) : 0.923\n"
     ]
    }
   ],
   "source": [
    "# Klasifikasi menggunakan SVM 70:30\n",
    "from sklearn.preprocessing import StandardScaler\n",
    "from sklearn.svm import SVC\n",
    "from sklearn.metrics import accuracy_score, classification_report\n",
    "\n",
    "scaler = StandardScaler()\n",
    "X_train_1 = scaler.fit_transform(X_train_70)\n",
    "X_test_1 = scaler.transform(X_test_70)\n",
    "\n",
    "svm_classifier = SVC(kernel='linear', C=1.0, random_state=42)\n",
    "svm_classifier.fit(X_train_1, y_train_70)\n",
    "\n",
    "y_pred = svm_classifier.predict(X_test_1)\n",
    "accuracy = accuracy_score(y_test_70, y_pred)\n",
    "report = classification_report(y_test_70, y_pred)\n",
    "print(f'Akurasi SVM (70:30) : {accuracy}')\n",
    "\n",
    "\n",
    "# Klasifikasi menggunakan SVM 80:20\n",
    "from sklearn.preprocessing import StandardScaler\n",
    "from sklearn.svm import SVC\n",
    "from sklearn.metrics import accuracy_score, classification_report\n",
    "\n",
    "\n",
    "scaler = StandardScaler()\n",
    "X_train_2 = scaler.fit_transform(X_train_80)\n",
    "X_test_2 = scaler.transform(X_test_80)\n",
    "\n",
    "svm_classifier = SVC(kernel='linear', C=1.0, random_state=42)\n",
    "svm_classifier.fit(X_train_2, y_train_80)\n",
    "\n",
    "y_pred = svm_classifier.predict(X_test_2)\n",
    "accuracy = accuracy_score(y_test_80, y_pred)\n",
    "report = classification_report(y_test_80, y_pred)\n",
    "print(f'Akurasi SVM (80:20) : {accuracy}')\n",
    "\n",
    "\n",
    "# Klasifikasi menggunakan SVM 90:10\n",
    "from sklearn.preprocessing import StandardScaler\n",
    "from sklearn.svm import SVC\n",
    "from sklearn.metrics import accuracy_score, classification_report\n",
    "\n",
    "scaler = StandardScaler()\n",
    "X_train_3 = scaler.fit_transform(X_train_90)\n",
    "X_test_3 = scaler.transform(X_test_90)\n",
    "\n",
    "svm_classifier = SVC(kernel='linear', C=1.0, random_state=42)\n",
    "svm_classifier.fit(X_train_3, y_train_90)\n",
    "\n",
    "y_pred = svm_classifier.predict(X_test_3)\n",
    "accuracy = accuracy_score(y_test_90, y_pred)\n",
    "report = classification_report(y_test_90, y_pred)\n",
    "print(f'Akurasi SVM (90:10) : {accuracy}')"
   ]
  },
  {
   "cell_type": "markdown",
   "metadata": {},
   "source": [
    "**No 6**\n",
    "\n",
    "Evaluasi model yang Anda buat terhadap data training dan data testing.\n",
    "   - Gunakan metric *accuracy* untuk mengetahui tingkat akurasi data training dan data testing.\n",
    "   - Gunakan fungsi *classification_report* untuk mengetahui performa model secara holistik.\n",
    "   - Gunakan confusion matrix untuk mengetahui tingkat ketepatan pelabelan."
   ]
  },
  {
   "cell_type": "markdown",
   "metadata": {},
   "source": [
    "70:30"
   ]
  },
  {
   "cell_type": "code",
   "execution_count": 12,
   "metadata": {},
   "outputs": [
    {
     "name": "stdout",
     "output_type": "stream",
     "text": [
      "Akurasi Data Training: 0.8278979591836735\n",
      "Akurasi Data Testing: 0.8257142857142857\n",
      "Classification Report untuk Data Training:\n",
      "              precision    recall  f1-score   support\n",
      "\n",
      "           0       0.92      0.90      0.91      2058\n",
      "           1       0.88      0.94      0.91      2364\n",
      "           2       0.88      0.83      0.85      2133\n",
      "           3       0.79      0.81      0.80      2176\n",
      "           4       0.83      0.74      0.78      1936\n",
      "           5       0.85      0.66      0.75      1915\n",
      "           6       0.87      0.92      0.89      2088\n",
      "           7       0.94      0.83      0.88      2248\n",
      "           8       0.65      0.77      0.70      1992\n",
      "           9       0.69      0.83      0.76      2090\n",
      "\n",
      "    accuracy                           0.83     21000\n",
      "   macro avg       0.83      0.82      0.82     21000\n",
      "weighted avg       0.83      0.83      0.83     21000\n",
      "\n",
      "Confusion Matrix untuk Data Testing:\n",
      "[[1857    1   12    6    4   33   40    1  102    2]\n",
      " [   0 2215   12   22    2   13    5    1   91    3]\n",
      " [  25   33 1766   39   20    4  103   20  116    7]\n",
      " [  12   35  102 1766    5   43   24   20  100   69]\n",
      " [   5    4   12    4 1427    7   46    9   71  351]\n",
      " [  55   20   18  252   37 1267   41    5  161   59]\n",
      " [  20   41   36    1   16   37 1917    0   20    0]\n",
      " [  18   34   13   10   43    0    1 1859   78  192]\n",
      " [   8  113   32  102   21   74   20    9 1525   88]\n",
      " [  14   21   12   20  139    8    0   56   79 1741]]\n"
     ]
    }
   ],
   "source": [
    "from sklearn.naive_bayes import MultinomialNB\n",
    "from sklearn.metrics import accuracy_score, classification_report, confusion_matrix\n",
    "import numpy as np\n",
    "import matplotlib.pyplot as plt\n",
    "\n",
    "# Membuat dan melatih model Multinomial Naive Bayes\n",
    "mnb = MultinomialNB()\n",
    "mnb.fit(X_train_70, y_train_70)\n",
    "\n",
    "# Melakukan prediksi label untuk data training dan data testing\n",
    "y_train_pred = mnb.predict(X_train_70)\n",
    "y_test_pred = mnb.predict(X_test_70)\n",
    "\n",
    "# Melakukan evaluasi akurasi data training\n",
    "train_accuracy = accuracy_score(y_train_70, y_train_pred)\n",
    "print(\"Akurasi Data Training:\", train_accuracy)\n",
    "\n",
    "# Melakukan evaluasi akurasi data testing\n",
    "test_accuracy = accuracy_score(y_test_70, y_test_pred)\n",
    "print(\"Akurasi Data Testing:\", test_accuracy)\n",
    "\n",
    "# Classification Report untuk data training\n",
    "class_report = classification_report(y_test_70, y_test_pred)\n",
    "print(\"Classification Report untuk Data Training:\")\n",
    "print(class_report)\n",
    "\n",
    "# Confusion Matrix untuk data Testing\n",
    "conf_matrix = confusion_matrix(y_test_70, y_test_pred)\n",
    "print(\"Confusion Matrix untuk Data Testing:\")\n",
    "print(conf_matrix)\n"
   ]
  },
  {
   "cell_type": "markdown",
   "metadata": {},
   "source": [
    "80:20"
   ]
  },
  {
   "cell_type": "code",
   "execution_count": 13,
   "metadata": {},
   "outputs": [
    {
     "name": "stdout",
     "output_type": "stream",
     "text": [
      "Akurasi Data Training: 0.8266785714285714\n",
      "Akurasi Data Testing: 0.829\n",
      "Classification Report untuk Data Training:\n",
      "              precision    recall  f1-score   support\n",
      "\n",
      "           0       0.93      0.90      0.92      1343\n",
      "           1       0.88      0.94      0.90      1600\n",
      "           2       0.88      0.83      0.85      1380\n",
      "           3       0.80      0.82      0.81      1433\n",
      "           4       0.84      0.74      0.78      1295\n",
      "           5       0.86      0.67      0.75      1273\n",
      "           6       0.88      0.91      0.90      1396\n",
      "           7       0.94      0.83      0.88      1503\n",
      "           8       0.67      0.78      0.72      1357\n",
      "           9       0.70      0.84      0.76      1420\n",
      "\n",
      "    accuracy                           0.83     14000\n",
      "   macro avg       0.84      0.83      0.83     14000\n",
      "weighted avg       0.84      0.83      0.83     14000\n",
      "\n",
      "Confusion Matrix untuk Data Testing:\n",
      "[[1215    1    8    4    2   21   29    1   60    2]\n",
      " [   0 1498    6   13    1   10    5    1   63    3]\n",
      " [  13   24 1139   28   17    4   62   11   78    4]\n",
      " [   5   24   69 1175    2   23   11   12   63   49]\n",
      " [   5    2    8    4  957    5   30    5   44  235]\n",
      " [  34   14   10  161   29  854   28    4  104   35]\n",
      " [  16   32   19    1   12   26 1277    0   13    0]\n",
      " [  13   24   10    5   25    0    1 1243   47  135]\n",
      " [   4   77   22   62   12   49   14    6 1058   53]\n",
      " [   6   15    9   12   87    6    0   42   53 1190]]\n"
     ]
    }
   ],
   "source": [
    "from sklearn.naive_bayes import MultinomialNB\n",
    "from sklearn.metrics import accuracy_score, classification_report, confusion_matrix\n",
    "import numpy as np\n",
    "import matplotlib.pyplot as plt\n",
    "\n",
    "# Membuat dan melatih model Multinomial Naive Bayes\n",
    "mnb = MultinomialNB()\n",
    "mnb.fit(X_train_80, y_train_80)\n",
    "\n",
    "# Melakukan prediksi label untuk data training dan data testing\n",
    "y_train_pred = mnb.predict(X_train_80)\n",
    "y_test_pred = mnb.predict(X_test_80)\n",
    "\n",
    "# Melakukan evaluasi akurasi data training\n",
    "train_accuracy = accuracy_score(y_train_80, y_train_pred)\n",
    "print(\"Akurasi Data Training:\", train_accuracy)\n",
    "\n",
    "# Melakukan evaluasi akurasi data testing\n",
    "test_accuracy = accuracy_score(y_test_80, y_test_pred)\n",
    "print(\"Akurasi Data Testing:\", test_accuracy)\n",
    "\n",
    "# Classification Report untuk data training\n",
    "class_report = classification_report(y_test_80, y_test_pred)\n",
    "print(\"Classification Report untuk Data Training:\")\n",
    "print(class_report)\n",
    "\n",
    "# Confusion Matrix untuk data Testing\n",
    "conf_matrix = confusion_matrix(y_test_80, y_test_pred)\n",
    "print(\"Confusion Matrix untuk Data Testing:\")\n",
    "print(conf_matrix)\n"
   ]
  },
  {
   "cell_type": "markdown",
   "metadata": {},
   "source": [
    "90:10"
   ]
  },
  {
   "cell_type": "code",
   "execution_count": 14,
   "metadata": {},
   "outputs": [
    {
     "name": "stdout",
     "output_type": "stream",
     "text": [
      "Akurasi Data Training: 0.8268412698412698\n",
      "Akurasi Data Testing: 0.8294285714285714\n",
      "Classification Report untuk Data Training:\n",
      "              precision    recall  f1-score   support\n",
      "\n",
      "           0       0.94      0.91      0.92       683\n",
      "           1       0.86      0.94      0.90       800\n",
      "           2       0.87      0.82      0.85       674\n",
      "           3       0.79      0.82      0.81       760\n",
      "           4       0.83      0.74      0.79       611\n",
      "           5       0.88      0.69      0.77       658\n",
      "           6       0.86      0.91      0.89       677\n",
      "           7       0.95      0.82      0.88       724\n",
      "           8       0.67      0.76      0.71       693\n",
      "           9       0.72      0.85      0.78       720\n",
      "\n",
      "    accuracy                           0.83      7000\n",
      "   macro avg       0.84      0.83      0.83      7000\n",
      "weighted avg       0.84      0.83      0.83      7000\n",
      "\n",
      "Confusion Matrix untuk Data Testing:\n",
      "[[622   0   4   2   0  11  14   0  29   1]\n",
      " [  0 751   3   7   0   3   5   0  29   2]\n",
      " [  7  14 555  15   8   3  34   2  36   0]\n",
      " [  3  15  38 622   2  10   6   4  34  26]\n",
      " [  1   1   6   1 454   2  16   3  20 107]\n",
      " [ 15   8   4  85  16 451  12   1  52  14]\n",
      " [  7  19  10   0   7  13 614   0   7   0]\n",
      " [  2  14   4   3  14   0   1 596  26  64]\n",
      " [  4  42  11  43   8  20   8   3 529  25]\n",
      " [  4   8   3   7  36   2   0  17  31 612]]\n"
     ]
    }
   ],
   "source": [
    "from sklearn.naive_bayes import MultinomialNB\n",
    "from sklearn.metrics import accuracy_score, classification_report, confusion_matrix\n",
    "import numpy as np\n",
    "import matplotlib.pyplot as plt\n",
    "\n",
    "# Membuat dan melatih model Multinomial Naive Bayes\n",
    "mnb = MultinomialNB()\n",
    "mnb.fit(X_train_90, y_train_90)\n",
    "\n",
    "# Melakukan prediksi label untuk data training dan data testing\n",
    "y_train_pred = mnb.predict(X_train_90)\n",
    "y_test_pred = mnb.predict(X_test_90)\n",
    "\n",
    "# Melakukan evaluasi akurasi data training\n",
    "train_accuracy = accuracy_score(y_train_90, y_train_pred)\n",
    "print(\"Akurasi Data Training:\", train_accuracy)\n",
    "\n",
    "# Melakukan evaluasi akurasi data testing\n",
    "test_accuracy = accuracy_score(y_test_90, y_test_pred)\n",
    "print(\"Akurasi Data Testing:\", test_accuracy)\n",
    "\n",
    "# Classification Report untuk data training\n",
    "class_report = classification_report(y_test_90, y_test_pred)\n",
    "print(\"Classification Report untuk Data Training:\")\n",
    "print(class_report)\n",
    "\n",
    "# Confusion Matrix untuk data Testing\n",
    "conf_matrix = confusion_matrix(y_test_90, y_test_pred)\n",
    "print(\"Confusion Matrix untuk Data Testing:\")\n",
    "print(conf_matrix)\n"
   ]
  },
  {
   "cell_type": "markdown",
   "metadata": {},
   "source": [
    "**No 7**\n",
    "\n",
    "Tampilkan citra data testing berserta hasil pelabelannya. Anda dapat menggunakan Job Sheet 03 sebagai acuan."
   ]
  },
  {
   "cell_type": "code",
   "execution_count": 38,
   "metadata": {},
   "outputs": [
    {
     "name": "stdout",
     "output_type": "stream",
     "text": [
      "Akurasi Gaussian Naive Bayes: 0.550952380952381\n"
     ]
    },
    {
     "data": {
      "image/png": "[encoded data removed]",
      "text/plain": [
       "<Figure size 432x288 with 5 Axes>"
      ]
     },
     "metadata": {
      "needs_background": "light"
     },
     "output_type": "display_data"
    }
   ],
   "source": [
    "import numpy as np\n",
    "import matplotlib.pyplot as plt\n",
    "from sklearn.datasets import fetch_openml\n",
    "from sklearn.model_selection import train_test_split\n",
    "from sklearn.naive_bayes import GaussianNB\n",
    "from sklearn.metrics import accuracy_score\n",
    "\n",
    "# Mengambil dataset MNIST\n",
    "mnist = fetch_openml('mnist_784', version=1, as_frame=False)\n",
    "\n",
    "# Memisahkan fitur (X) dan target (y)\n",
    "X = mnist.data\n",
    "y = mnist.target\n",
    "\n",
    "# Membagi dataset menjadi data latih dan data uji (70:30)\n",
    "X_train, X_test, y_train, y_test = train_test_split(X, y, test_size=0.3, random_state=42)  # Ubah test_size menjadi 0.3\n",
    "\n",
    "# Melakukan normalisasi nilai piksel\n",
    "X_train = X_train.astype('float32') / 255.0\n",
    "X_test = X_test.astype('float32') / 255.0\n",
    "\n",
    "# Contoh dengan Gaussian Naive Bayes\n",
    "gnb = GaussianNB()\n",
    "gnb.fit(X_train, y_train)\n",
    "y_pred = gnb.predict(X_test)\n",
    "accuracy = accuracy_score(y_test, y_pred)\n",
    "print(\"Akurasi Gaussian Naive Bayes:\", accuracy)\n",
    "\n",
    "# Menampilkan citra data testing beserta hasil prediksi Gaussian Naive Bayes\n",
    "def show_images_with_predictions(images, true_labels, predicted_labels, num_images=5):\n",
    "    sample_indices = np.random.choice(range(len(images)), num_images)\n",
    "\n",
    "    for i, sample_index in enumerate(sample_indices):\n",
    "        plt.subplot(1, num_images, i + 1)\n",
    "        plt.imshow(images[sample_index].reshape((28, 28)), cmap='gray')\n",
    "        plt.title(f'True: {true_labels[sample_index]}\\nPred: {predicted_labels[sample_index]}')\n",
    "\n",
    "        text_color = 'black' if true_labels[sample_index] == predicted_labels[sample_index] else 'red'\n",
    "        plt.title(f\"True: {true_labels[sample_index]}\\nPred: {predicted_labels[sample_index]}\", color=text_color)\n",
    "        plt.axis(\"off\")\n",
    "\n",
    "    plt.tight_layout()\n",
    "    plt.show()\n",
    "\n",
    "# Menampilkan citra data testing beserta hasil prediksi Gaussian Naive Bayes\n",
    "show_images_with_predictions(X_test, y_test, y_pred, num_images=5)\n"
   ]
  },
  {
   "cell_type": "code",
   "execution_count": 33,
   "metadata": {},
   "outputs": [
    {
     "name": "stdout",
     "output_type": "stream",
     "text": [
      "Akurasi Gaussian Naive Bayes: 0.5515714285714286\n"
     ]
    },
    {
     "data": {
      "image/png": "[encoded data removed]",
      "text/plain": [
       "<Figure size 432x288 with 5 Axes>"
      ]
     },
     "metadata": {
      "needs_background": "light"
     },
     "output_type": "display_data"
    }
   ],
   "source": [
    "import numpy as np\n",
    "import matplotlib.pyplot as plt\n",
    "from sklearn.datasets import fetch_openml\n",
    "from sklearn.model_selection import train_test_split\n",
    "from sklearn.naive_bayes import GaussianNB\n",
    "from sklearn.metrics import accuracy_score\n",
    "\n",
    "# Mengambil dataset MNIST\n",
    "mnist = fetch_openml('mnist_784', version=1, as_frame=False)\n",
    "\n",
    "# Memisahkan fitur (X) dan target (y)\n",
    "X = mnist.data\n",
    "y = mnist.target\n",
    "\n",
    "# Membagi dataset menjadi data latih dan data uji (80:20)\n",
    "X_train, X_test, y_train, y_test = train_test_split(X, y, test_size=0.2, random_state=42)\n",
    "\n",
    "# Melakukan normalisasi nilai piksel\n",
    "X_train = X_train.astype('float32') / 255.0\n",
    "X_test = X_test.astype('float32') / 255.0\n",
    "\n",
    "# Contoh dengan Gaussian Naive Bayes\n",
    "gnb = GaussianNB()\n",
    "gnb.fit(X_train, y_train)\n",
    "y_pred = gnb.predict(X_test)\n",
    "accuracy = accuracy_score(y_test, y_pred)\n",
    "print(\"Akurasi Gaussian Naive Bayes:\", accuracy)\n",
    "\n",
    "# Menampilkan citra data testing beserta hasil prediksi Gaussian Naive Bayes\n",
    "def show_images_with_predictions(images, true_labels, predicted_labels, num_images=5):\n",
    "    sample_indices = np.random.choice(range(len(images)), num_images)\n",
    "\n",
    "    for i, sample_index in enumerate(sample_indices):\n",
    "        plt.subplot(1, num_images, i + 1)\n",
    "        plt.imshow(images[sample_index].reshape((28, 28)), cmap='gray')\n",
    "        plt.title(f'True: {true_labels[sample_index]}\\nPred: {predicted_labels[sample_index]}')\n",
    "\n",
    "        text_color = 'black' if true_labels[sample_index] == predicted_labels[sample_index] else 'red'\n",
    "        plt.title(f\"True: {true_labels[sample_index]}\\nPred: {predicted_labels[sample_index]}\", color=text_color)\n",
    "        plt.axis(\"off\")\n",
    "\n",
    "    plt.tight_layout()\n",
    "    plt.show()\n",
    "\n",
    "# Menampilkan citra data testing beserta hasil prediksi Gaussian Naive Bayes\n",
    "show_images_with_predictions(X_test, y_test, y_pred, num_images=5)\n"
   ]
  },
  {
   "cell_type": "code",
   "execution_count": 34,
   "metadata": {},
   "outputs": [
    {
     "name": "stdout",
     "output_type": "stream",
     "text": [
      "Akurasi Gaussian Naive Bayes: 0.5634285714285714\n"
     ]
    },
    {
     "data": {
      "image/png": "[encoded data removed]",
      "text/plain": [
       "<Figure size 432x288 with 5 Axes>"
      ]
     },
     "metadata": {
      "needs_background": "light"
     },
     "output_type": "display_data"
    }
   ],
   "source": [
    "import numpy as np\n",
    "import matplotlib.pyplot as plt\n",
    "from sklearn.datasets import fetch_openml\n",
    "from sklearn.model_selection import train_test_split\n",
    "from sklearn.naive_bayes import GaussianNB\n",
    "from sklearn.metrics import accuracy_score\n",
    "\n",
    "# Mengambil dataset MNIST\n",
    "mnist = fetch_openml('mnist_784', version=1, as_frame=False)\n",
    "\n",
    "# Memisahkan fitur (X) dan target (y)\n",
    "X = mnist.data\n",
    "y = mnist.target\n",
    "\n",
    "# Membagi dataset menjadi data latih dan data uji (90:10)\n",
    "X_train, X_test, y_train, y_test = train_test_split(X, y, test_size=0.1, random_state=42)\n",
    "\n",
    "# Melakukan normalisasi nilai piksel\n",
    "X_train = X_train.astype('float32') / 255.0\n",
    "X_test = X_test.astype('float32') / 255.0\n",
    "\n",
    "# Contoh dengan Gaussian Naive Bayes\n",
    "gnb = GaussianNB()\n",
    "gnb.fit(X_train, y_train)\n",
    "y_pred = gnb.predict(X_test)\n",
    "accuracy = accuracy_score(y_test, y_pred)\n",
    "print(\"Akurasi Gaussian Naive Bayes:\", accuracy)\n",
    "\n",
    "# Menampilkan citra data testing beserta hasil prediksi Gaussian Naive Bayes\n",
    "def show_images_with_predictions(images, true_labels, predicted_labels, num_images=5):\n",
    "    sample_indices = np.random.choice(range(len(images)), num_images)\n",
    "\n",
    "    for i, sample_index in enumerate(sample_indices):\n",
    "        plt.subplot(1, num_images, i + 1)\n",
    "        plt.imshow(images[sample_index].reshape((28, 28)), cmap='gray')\n",
    "        plt.title(f'True: {true_labels[sample_index]}\\nPred: {predicted_labels[sample_index]}')\n",
    "\n",
    "        text_color = 'black' if true_labels[sample_index] == predicted_labels[sample_index] else 'red'\n",
    "        plt.title(f\"True: {true_labels[sample_index]}\\nPred: {predicted_labels[sample_index]}\", color=text_color)\n",
    "        plt.axis(\"off\")\n",
    "\n",
    "    plt.tight_layout()\n",
    "    plt.show()\n",
    "\n",
    "# Menampilkan citra data testing beserta hasil prediksi Gaussian Naive Bayes\n",
    "show_images_with_predictions(X_test, y_test, y_pred, num_images=5)\n"
   ]
  },
  {
   "cell_type": "markdown",
   "metadata": {},
   "source": [
    "**No 8**\n",
    "\n",
    "Apa model terbaik yang Anda dapatkan? Bagaimana konfigurasinya? Berapa tingkat akurasi yang didapatkan? Jelaskan!"
   ]
  },
  {
   "cell_type": "markdown",
   "metadata": {},
   "source": [
    "Dari hasil diatas diperoleh model terbaik adalah SVM dengan :\n",
    "\n",
    "Akurasi SVM (70:30) : 0.92\n",
    "Akurasi SVM (80:20) : 0.9210714285714285\n",
    "Akurasi SVM (90:10) : 0.923\n",
    "\n",
    "Parameter:\n",
    "\n",
    "● Parameter c untuk SVM diatur ke 5, parameter gamma diatur ke 0.05\n",
    "\n",
    "Tingkat Akurasi:\n",
    "\n",
    "● Rasio 70:30 : Akurasi 98.54%\n",
    "\n",
    "● Rasio 80:20 : Akurasi 98.58%\n",
    "\n",
    "● Rasio 90:10 : Akurasi 98.64%"
   ]
  }
 ],
 "metadata": {
  "kernelspec": {
   "display_name": "base",
   "language": "python",
   "name": "python3"
  },
  "language_info": {
   "codemirror_mode": {
    "name": "ipython",
    "version": 3
   },
   "file_extension": ".py",
   "mimetype": "text/x-python",
   "name": "python",
   "nbconvert_exporter": "python",
   "pygments_lexer": "ipython3",
   "version": "3.9.7"
  },
  "orig_nbformat": 4
 },
 "nbformat": 4,
 "nbformat_minor": 2
}
