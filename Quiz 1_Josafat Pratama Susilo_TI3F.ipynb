{
  "nbformat": 4,
  "nbformat_minor": 0,
  "metadata": {
    "colab": {
      "provenance": [],
      "collapsed_sections": [
        "CcDCfA-hxzI2",
        "e9cqYXTdx6qZ",
        "G69JN8Xrx8r_"
      ]
    },
    "kernelspec": {
      "name": "python3",
      "display_name": "Python 3"
    },
    "language_info": {
      "name": "python"
    }
  },
  "cells": [
    {
      "cell_type": "markdown",
      "source": [
        "# Kasus - Klasifikasi Tulisan Tangan dengan Dataset MNIST"
      ],
      "metadata": {
        "id": "j8DxEb__d-qh"
      }
    },
    {
      "cell_type": "markdown",
      "source": [
        "## Deskripsi Umum\n",
        "Anda diminta untuk melakukan klasifikasi dengan menggunakan algoritma Naive Bayes dan SVM untuk merekognisi tulisan tangan dari dataset MNIST"
      ],
      "metadata": {
        "id": "Gb84a8a3eptF"
      }
    },
    {
      "cell_type": "markdown",
      "source": [
        "## Tentang Dataset MNIST\n",
        "\n",
        "Dataset MNIST (Modified National Institute of Standards and Technology) merupakan dataset berupa citra grayscale dengan ukuran 28x28 yang berisi tulisan tangan dari digit angka 0-9. Jumlah data dalam dataset ini adalah 70.000 data."
      ],
      "metadata": {
        "id": "KEx5J6i1euPr"
      }
    },
    {
      "cell_type": "markdown",
      "source": [
        "## Detail Kuis\n",
        "\n",
        "1. Pastikan jumlah data setiap label angka (0-9). Apakah terdapat data imbalance pada dataset MNIST yang digunakan? Jelaskan jawaban Anda dan buktikan!\n",
        "\n",
        "2. Tampilkan 15 buah citra pertama dari dataset MNIST berserta labelnya. Anda dapat menggunakan referensi dari Job Sheet 03.\n",
        "\n",
        "3. Lakukan proses ekstraksi fitur pada data MNIST. Pada proses ini, Anda diperbolehkan untuk\n",
        "    - Langsung menggunakan nilai asli dari citra (nilai asli setiap pixel dari dataset) sebagai fitur.\n",
        "    - Melakukan ekstraksi fitur lain seperti histogram, PCA, atau yang lainnya. Anda diperbolehkan melakukan ekspolarasi pada proses ini.\n",
        "\n",
        "4. Buatlah data training dan data testing menggunakan rasio 70:30, 80:20, 90:10.\n",
        "\n",
        "4. Lakukan proses klasifikasi dengan menggunakan algoritma Naive Bayes dan SVM.\n",
        "   - Anda diperbolehkan untuk melakukan tunning parameter.\n",
        "   - Anda diperbolehkan mengeksplorasi jenis kernel yang digunakan pada SVM.\n",
        "\n",
        "5. Evaluasi model yang Anda buat terhadap data training dan data testing.\n",
        "   - Gunakan metric *accuracy* untuk mengetahui tingkat akurasi data training dan data testing.\n",
        "   - Gunakan fungsi *classification_report* untuk mengetahui performa model secara holistik.\n",
        "   - Gunakan confusion matrix untuk mengetahui tingkat ketepatan pelabelan.\n",
        "\n",
        "6. Tampilkan citra data testing berserta hasil pelabelannya. Anda dapat menggunakan Job Sheet 03 sebagai acuan.\n",
        "\n",
        "7. Apa model terbaik yang Anda dapatkan? Bagaimana konfigurasinya? Berapa tingkat akurasi yang didapatkan? Jelaskan!"
      ],
      "metadata": {
        "id": "0G4hvAMGfa7T"
      }
    },
    {
      "cell_type": "markdown",
      "source": [
        "# Bantuan\n",
        "\n",
        "Berikut merupakan kode bantuan untuk proses mengunduh dataset MNIST"
      ],
      "metadata": {
        "id": "aFXaRwkikbIk"
      }
    },
    {
      "cell_type": "code",
      "execution_count": 2,
      "metadata": {
        "id": "Ne3-Z5-wcTRt",
        "colab": {
          "base_uri": "https://localhost:8080/"
        },
        "outputId": "19bc24d5-1780-4ecb-e0e5-e05168750b46"
      },
      "outputs": [
        {
          "output_type": "stream",
          "name": "stderr",
          "text": [
            "/usr/local/lib/python3.10/dist-packages/sklearn/datasets/_openml.py:968: FutureWarning: The default value of `parser` will change from `'liac-arff'` to `'auto'` in 1.4. You can set `parser='auto'` to silence this warning. Therefore, an `ImportError` will be raised from 1.4 if the dataset is dense and pandas is not installed. Note that the pandas parser may return different data types. See the Notes Section in fetch_openml's API doc for details.\n",
            "  warn(\n"
          ]
        }
      ],
      "source": [
        "# Unduh Dataset MNIST\n",
        "from sklearn.datasets import fetch_openml\n",
        "\n",
        "mnist = fetch_openml('mnist_784')"
      ]
    },
    {
      "cell_type": "code",
      "source": [
        "# Baca deskripsi dataset\n",
        "# Tahap ini mungkin diperlukan untuk lebih memahami dataset\n",
        "print(mnist.DESCR)"
      ],
      "metadata": {
        "id": "VFcYRExSk8wl",
        "colab": {
          "base_uri": "https://localhost:8080/"
        },
        "outputId": "bf1db0bd-1d3b-49d2-dd9f-63c4b95b87cd"
      },
      "execution_count": 3,
      "outputs": [
        {
          "output_type": "stream",
          "name": "stdout",
          "text": [
            "**Author**: Yann LeCun, Corinna Cortes, Christopher J.C. Burges  \n",
            "**Source**: [MNIST Website](http://yann.lecun.com/exdb/mnist/) - Date unknown  \n",
            "**Please cite**:  \n",
            "\n",
            "The MNIST database of handwritten digits with 784 features, raw data available at: http://yann.lecun.com/exdb/mnist/. It can be split in a training set of the first 60,000 examples, and a test set of 10,000 examples  \n",
            "\n",
            "It is a subset of a larger set available from NIST. The digits have been size-normalized and centered in a fixed-size image. It is a good database for people who want to try learning techniques and pattern recognition methods on real-world data while spending minimal efforts on preprocessing and formatting. The original black and white (bilevel) images from NIST were size normalized to fit in a 20x20 pixel box while preserving their aspect ratio. The resulting images contain grey levels as a result of the anti-aliasing technique used by the normalization algorithm. the images were centered in a 28x28 image by computing the center of mass of the pixels, and translating the image so as to position this point at the center of the 28x28 field.  \n",
            "\n",
            "With some classification methods (particularly template-based methods, such as SVM and K-nearest neighbors), the error rate improves when the digits are centered by bounding box rather than center of mass. If you do this kind of pre-processing, you should report it in your publications. The MNIST database was constructed from NIST's NIST originally designated SD-3 as their training set and SD-1 as their test set. However, SD-3 is much cleaner and easier to recognize than SD-1. The reason for this can be found on the fact that SD-3 was collected among Census Bureau employees, while SD-1 was collected among high-school students. Drawing sensible conclusions from learning experiments requires that the result be independent of the choice of training set and test among the complete set of samples. Therefore it was necessary to build a new database by mixing NIST's datasets.  \n",
            "\n",
            "The MNIST training set is composed of 30,000 patterns from SD-3 and 30,000 patterns from SD-1. Our test set was composed of 5,000 patterns from SD-3 and 5,000 patterns from SD-1. The 60,000 pattern training set contained examples from approximately 250 writers. We made sure that the sets of writers of the training set and test set were disjoint. SD-1 contains 58,527 digit images written by 500 different writers. In contrast to SD-3, where blocks of data from each writer appeared in sequence, the data in SD-1 is scrambled. Writer identities for SD-1 is available and we used this information to unscramble the writers. We then split SD-1 in two: characters written by the first 250 writers went into our new training set. The remaining 250 writers were placed in our test set. Thus we had two sets with nearly 30,000 examples each. The new training set was completed with enough examples from SD-3, starting at pattern # 0, to make a full set of 60,000 training patterns. Similarly, the new test set was completed with SD-3 examples starting at pattern # 35,000 to make a full set with 60,000 test patterns. Only a subset of 10,000 test images (5,000 from SD-1 and 5,000 from SD-3) is available on this site. The full 60,000 sample training set is available.\n",
            "\n",
            "Downloaded from openml.org.\n"
          ]
        }
      ]
    },
    {
      "cell_type": "code",
      "source": [
        "# Inspeksi semua key dalam dataset\n",
        "# Cara ini digunakan untuk memahami struktur dari dataset MNIST\n",
        "mnist.keys()"
      ],
      "metadata": {
        "id": "vw14DeY0lgVF",
        "colab": {
          "base_uri": "https://localhost:8080/"
        },
        "outputId": "3a368bd9-7ff0-46b0-e8c5-80c7dc5bbc73"
      },
      "execution_count": 4,
      "outputs": [
        {
          "output_type": "execute_result",
          "data": {
            "text/plain": [
              "dict_keys(['data', 'target', 'frame', 'categories', 'feature_names', 'target_names', 'DESCR', 'details', 'url'])"
            ]
          },
          "metadata": {},
          "execution_count": 4
        }
      ]
    },
    {
      "cell_type": "code",
      "source": [
        "print(mnist.target_names)"
      ],
      "metadata": {
        "colab": {
          "base_uri": "https://localhost:8080/"
        },
        "id": "aIV5VBOhnKYF",
        "outputId": "8a4d664c-2bbe-4d8e-b5fe-218a629f5d4a"
      },
      "execution_count": 5,
      "outputs": [
        {
          "output_type": "stream",
          "name": "stdout",
          "text": [
            "['class']\n"
          ]
        }
      ]
    },
    {
      "cell_type": "markdown",
      "source": [
        "# **Jawaban Quiz**"
      ],
      "metadata": {
        "id": "AfMP6I7qTwVu"
      }
    },
    {
      "cell_type": "code",
      "source": [
        "# Import Library\n",
        "import pandas as pd\n",
        "import matplotlib.pyplot as plt\n",
        "import numpy as np\n",
        "import seaborn as sns\n",
        "from sklearn.decomposition import PCA\n",
        "from sklearn.svm import SVC\n",
        "from sklearn.preprocessing import StandardScaler\n",
        "from sklearn.model_selection import train_test_split\n",
        "from sklearn.naive_bayes import GaussianNB\n",
        "from sklearn.metrics import accuracy_score\n",
        "from sklearn.metrics import classification_report\n",
        "from sklearn.metrics import confusion_matrix"
      ],
      "metadata": {
        "id": "PbQ91y_PTyGd"
      },
      "execution_count": 6,
      "outputs": []
    },
    {
      "cell_type": "markdown",
      "source": [
        "## **Nomor 1**"
      ],
      "metadata": {
        "id": "uaNDDlHKub76"
      }
    },
    {
      "cell_type": "markdown",
      "source": [
        "#### Pastikan jumlah data setiap label angka (0-9). Apakah terdapat data imbalance pada dataset MNIST yang digunakan? Jelaskan jawaban Anda dan buktikan!"
      ],
      "metadata": {
        "id": "vnQre28Hpy6J"
      }
    },
    {
      "cell_type": "code",
      "source": [
        "# Buat dataframe dari dictionary mnist, pada dataframe ini nama kolomnya menggunakan feature_names yaitu jumlah pixel keseluruhan dalam citra angka tersebut (terdapat 784 pixel dalam satu citra).\n",
        "# kemudian isi data dari dataframe ini akan diisi dengan value dari key data pada dictionary mnist.\n",
        "data = pd.DataFrame(data=mnist.data, columns=mnist.feature_names)\n",
        "\n",
        "# Setelah itu ditambahkan sebuah kolom baru dengan nama target dan isinya dari value keys target dictionary mnist yang akan menjadi target pada model kali ini.\n",
        "data['target'] = mnist.target.astype(int)\n",
        "\n",
        "# Tampilkan dataframe\n",
        "data.head()"
      ],
      "metadata": {
        "id": "qbOaTuoqUP4e",
        "colab": {
          "base_uri": "https://localhost:8080/",
          "height": 236
        },
        "outputId": "06f2683b-6736-4fdd-dd7b-d7a6156c5e18"
      },
      "execution_count": 7,
      "outputs": [
        {
          "output_type": "execute_result",
          "data": {
            "text/plain": [
              "   pixel1  pixel2  pixel3  pixel4  pixel5  pixel6  pixel7  pixel8  pixel9  \\\n",
              "0     0.0     0.0     0.0     0.0     0.0     0.0     0.0     0.0     0.0   \n",
              "1     0.0     0.0     0.0     0.0     0.0     0.0     0.0     0.0     0.0   \n",
              "2     0.0     0.0     0.0     0.0     0.0     0.0     0.0     0.0     0.0   \n",
              "3     0.0     0.0     0.0     0.0     0.0     0.0     0.0     0.0     0.0   \n",
              "4     0.0     0.0     0.0     0.0     0.0     0.0     0.0     0.0     0.0   \n",
              "\n",
              "   pixel10  ...  pixel776  pixel777  pixel778  pixel779  pixel780  pixel781  \\\n",
              "0      0.0  ...       0.0       0.0       0.0       0.0       0.0       0.0   \n",
              "1      0.0  ...       0.0       0.0       0.0       0.0       0.0       0.0   \n",
              "2      0.0  ...       0.0       0.0       0.0       0.0       0.0       0.0   \n",
              "3      0.0  ...       0.0       0.0       0.0       0.0       0.0       0.0   \n",
              "4      0.0  ...       0.0       0.0       0.0       0.0       0.0       0.0   \n",
              "\n",
              "   pixel782  pixel783  pixel784  target  \n",
              "0       0.0       0.0       0.0       5  \n",
              "1       0.0       0.0       0.0       0  \n",
              "2       0.0       0.0       0.0       4  \n",
              "3       0.0       0.0       0.0       1  \n",
              "4       0.0       0.0       0.0       9  \n",
              "\n",
              "[5 rows x 785 columns]"
            ],
            "text/html": [
              "\n",
              "  <div id=\"df-803b259e-cf10-4353-9215-8213822cfb7e\" class=\"colab-df-container\">\n",
              "    <div>\n",
              "<style scoped>\n",
              "    .dataframe tbody tr th:only-of-type {\n",
              "        vertical-align: middle;\n",
              "    }\n",
              "\n",
              "    .dataframe tbody tr th {\n",
              "        vertical-align: top;\n",
              "    }\n",
              "\n",
              "    .dataframe thead th {\n",
              "        text-align: right;\n",
              "    }\n",
              "</style>\n",
              "<table border=\"1\" class=\"dataframe\">\n",
              "  <thead>\n",
              "    <tr style=\"text-align: right;\">\n",
              "      <th></th>\n",
              "      <th>pixel1</th>\n",
              "      <th>pixel2</th>\n",
              "      <th>pixel3</th>\n",
              "      <th>pixel4</th>\n",
              "      <th>pixel5</th>\n",
              "      <th>pixel6</th>\n",
              "      <th>pixel7</th>\n",
              "      <th>pixel8</th>\n",
              "      <th>pixel9</th>\n",
              "      <th>pixel10</th>\n",
              "      <th>...</th>\n",
              "      <th>pixel776</th>\n",
              "      <th>pixel777</th>\n",
              "      <th>pixel778</th>\n",
              "      <th>pixel779</th>\n",
              "      <th>pixel780</th>\n",
              "      <th>pixel781</th>\n",
              "      <th>pixel782</th>\n",
              "      <th>pixel783</th>\n",
              "      <th>pixel784</th>\n",
              "      <th>target</th>\n",
              "    </tr>\n",
              "  </thead>\n",
              "  <tbody>\n",
              "    <tr>\n",
              "      <th>0</th>\n",
              "      <td>0.0</td>\n",
              "      <td>0.0</td>\n",
              "      <td>0.0</td>\n",
              "      <td>0.0</td>\n",
              "      <td>0.0</td>\n",
              "      <td>0.0</td>\n",
              "      <td>0.0</td>\n",
              "      <td>0.0</td>\n",
              "      <td>0.0</td>\n",
              "      <td>0.0</td>\n",
              "      <td>...</td>\n",
              "      <td>0.0</td>\n",
              "      <td>0.0</td>\n",
              "      <td>0.0</td>\n",
              "      <td>0.0</td>\n",
              "      <td>0.0</td>\n",
              "      <td>0.0</td>\n",
              "      <td>0.0</td>\n",
              "      <td>0.0</td>\n",
              "      <td>0.0</td>\n",
              "      <td>5</td>\n",
              "    </tr>\n",
              "    <tr>\n",
              "      <th>1</th>\n",
              "      <td>0.0</td>\n",
              "      <td>0.0</td>\n",
              "      <td>0.0</td>\n",
              "      <td>0.0</td>\n",
              "      <td>0.0</td>\n",
              "      <td>0.0</td>\n",
              "      <td>0.0</td>\n",
              "      <td>0.0</td>\n",
              "      <td>0.0</td>\n",
              "      <td>0.0</td>\n",
              "      <td>...</td>\n",
              "      <td>0.0</td>\n",
              "      <td>0.0</td>\n",
              "      <td>0.0</td>\n",
              "      <td>0.0</td>\n",
              "      <td>0.0</td>\n",
              "      <td>0.0</td>\n",
              "      <td>0.0</td>\n",
              "      <td>0.0</td>\n",
              "      <td>0.0</td>\n",
              "      <td>0</td>\n",
              "    </tr>\n",
              "    <tr>\n",
              "      <th>2</th>\n",
              "      <td>0.0</td>\n",
              "      <td>0.0</td>\n",
              "      <td>0.0</td>\n",
              "      <td>0.0</td>\n",
              "      <td>0.0</td>\n",
              "      <td>0.0</td>\n",
              "      <td>0.0</td>\n",
              "      <td>0.0</td>\n",
              "      <td>0.0</td>\n",
              "      <td>0.0</td>\n",
              "      <td>...</td>\n",
              "      <td>0.0</td>\n",
              "      <td>0.0</td>\n",
              "      <td>0.0</td>\n",
              "      <td>0.0</td>\n",
              "      <td>0.0</td>\n",
              "      <td>0.0</td>\n",
              "      <td>0.0</td>\n",
              "      <td>0.0</td>\n",
              "      <td>0.0</td>\n",
              "      <td>4</td>\n",
              "    </tr>\n",
              "    <tr>\n",
              "      <th>3</th>\n",
              "      <td>0.0</td>\n",
              "      <td>0.0</td>\n",
              "      <td>0.0</td>\n",
              "      <td>0.0</td>\n",
              "      <td>0.0</td>\n",
              "      <td>0.0</td>\n",
              "      <td>0.0</td>\n",
              "      <td>0.0</td>\n",
              "      <td>0.0</td>\n",
              "      <td>0.0</td>\n",
              "      <td>...</td>\n",
              "      <td>0.0</td>\n",
              "      <td>0.0</td>\n",
              "      <td>0.0</td>\n",
              "      <td>0.0</td>\n",
              "      <td>0.0</td>\n",
              "      <td>0.0</td>\n",
              "      <td>0.0</td>\n",
              "      <td>0.0</td>\n",
              "      <td>0.0</td>\n",
              "      <td>1</td>\n",
              "    </tr>\n",
              "    <tr>\n",
              "      <th>4</th>\n",
              "      <td>0.0</td>\n",
              "      <td>0.0</td>\n",
              "      <td>0.0</td>\n",
              "      <td>0.0</td>\n",
              "      <td>0.0</td>\n",
              "      <td>0.0</td>\n",
              "      <td>0.0</td>\n",
              "      <td>0.0</td>\n",
              "      <td>0.0</td>\n",
              "      <td>0.0</td>\n",
              "      <td>...</td>\n",
              "      <td>0.0</td>\n",
              "      <td>0.0</td>\n",
              "      <td>0.0</td>\n",
              "      <td>0.0</td>\n",
              "      <td>0.0</td>\n",
              "      <td>0.0</td>\n",
              "      <td>0.0</td>\n",
              "      <td>0.0</td>\n",
              "      <td>0.0</td>\n",
              "      <td>9</td>\n",
              "    </tr>\n",
              "  </tbody>\n",
              "</table>\n",
              "<p>5 rows × 785 columns</p>\n",
              "</div>\n",
              "    <div class=\"colab-df-buttons\">\n",
              "\n",
              "  <div class=\"colab-df-container\">\n",
              "    <button class=\"colab-df-convert\" onclick=\"convertToInteractive('df-803b259e-cf10-4353-9215-8213822cfb7e')\"\n",
              "            title=\"Convert this dataframe to an interactive table.\"\n",
              "            style=\"display:none;\">\n",
              "\n",
              "  <svg xmlns=\"http://www.w3.org/2000/svg\" height=\"24px\" viewBox=\"0 -960 960 960\">\n",
              "    <path d=\"M120-120v-720h720v720H120Zm60-500h600v-160H180v160Zm220 220h160v-160H400v160Zm0 220h160v-160H400v160ZM180-400h160v-160H180v160Zm440 0h160v-160H620v160ZM180-180h160v-160H180v160Zm440 0h160v-160H620v160Z\"/>\n",
              "  </svg>\n",
              "    </button>\n",
              "\n",
              "  <style>\n",
              "    .colab-df-container {\n",
              "      display:flex;\n",
              "      gap: 12px;\n",
              "    }\n",
              "\n",
              "    .colab-df-convert {\n",
              "      background-color: #E8F0FE;\n",
              "      border: none;\n",
              "      border-radius: 50%;\n",
              "      cursor: pointer;\n",
              "      display: none;\n",
              "      fill: #1967D2;\n",
              "      height: 32px;\n",
              "      padding: 0 0 0 0;\n",
              "      width: 32px;\n",
              "    }\n",
              "\n",
              "    .colab-df-convert:hover {\n",
              "      background-color: #E2EBFA;\n",
              "      box-shadow: 0px 1px 2px rgba(60, 64, 67, 0.3), 0px 1px 3px 1px rgba(60, 64, 67, 0.15);\n",
              "      fill: #174EA6;\n",
              "    }\n",
              "\n",
              "    .colab-df-buttons div {\n",
              "      margin-bottom: 4px;\n",
              "    }\n",
              "\n",
              "    [theme=dark] .colab-df-convert {\n",
              "      background-color: #3B4455;\n",
              "      fill: #D2E3FC;\n",
              "    }\n",
              "\n",
              "    [theme=dark] .colab-df-convert:hover {\n",
              "      background-color: #434B5C;\n",
              "      box-shadow: 0px 1px 3px 1px rgba(0, 0, 0, 0.15);\n",
              "      filter: drop-shadow(0px 1px 2px rgba(0, 0, 0, 0.3));\n",
              "      fill: #FFFFFF;\n",
              "    }\n",
              "  </style>\n",
              "\n",
              "    <script>\n",
              "      const buttonEl =\n",
              "        document.querySelector('#df-803b259e-cf10-4353-9215-8213822cfb7e button.colab-df-convert');\n",
              "      buttonEl.style.display =\n",
              "        google.colab.kernel.accessAllowed ? 'block' : 'none';\n",
              "\n",
              "      async function convertToInteractive(key) {\n",
              "        const element = document.querySelector('#df-803b259e-cf10-4353-9215-8213822cfb7e');\n",
              "        const dataTable =\n",
              "          await google.colab.kernel.invokeFunction('convertToInteractive',\n",
              "                                                    [key], {});\n",
              "        if (!dataTable) return;\n",
              "\n",
              "        const docLinkHtml = 'Like what you see? Visit the ' +\n",
              "          '<a target=\"_blank\" href=https://colab.research.google.com/notebooks/data_table.ipynb>data table notebook</a>'\n",
              "          + ' to learn more about interactive tables.';\n",
              "        element.innerHTML = '';\n",
              "        dataTable['output_type'] = 'display_data';\n",
              "        await google.colab.output.renderOutput(dataTable, element);\n",
              "        const docLink = document.createElement('div');\n",
              "        docLink.innerHTML = docLinkHtml;\n",
              "        element.appendChild(docLink);\n",
              "      }\n",
              "    </script>\n",
              "  </div>\n",
              "\n",
              "\n",
              "<div id=\"df-6797444f-4512-4fe8-929e-828ca3d58fc5\">\n",
              "  <button class=\"colab-df-quickchart\" onclick=\"quickchart('df-6797444f-4512-4fe8-929e-828ca3d58fc5')\"\n",
              "            title=\"Suggest charts.\"\n",
              "            style=\"display:none;\">\n",
              "\n",
              "<svg xmlns=\"http://www.w3.org/2000/svg\" height=\"24px\"viewBox=\"0 0 24 24\"\n",
              "     width=\"24px\">\n",
              "    <g>\n",
              "        <path d=\"M19 3H5c-1.1 0-2 .9-2 2v14c0 1.1.9 2 2 2h14c1.1 0 2-.9 2-2V5c0-1.1-.9-2-2-2zM9 17H7v-7h2v7zm4 0h-2V7h2v10zm4 0h-2v-4h2v4z\"/>\n",
              "    </g>\n",
              "</svg>\n",
              "  </button>\n",
              "\n",
              "<style>\n",
              "  .colab-df-quickchart {\n",
              "      --bg-color: #E8F0FE;\n",
              "      --fill-color: #1967D2;\n",
              "      --hover-bg-color: #E2EBFA;\n",
              "      --hover-fill-color: #174EA6;\n",
              "      --disabled-fill-color: #AAA;\n",
              "      --disabled-bg-color: #DDD;\n",
              "  }\n",
              "\n",
              "  [theme=dark] .colab-df-quickchart {\n",
              "      --bg-color: #3B4455;\n",
              "      --fill-color: #D2E3FC;\n",
              "      --hover-bg-color: #434B5C;\n",
              "      --hover-fill-color: #FFFFFF;\n",
              "      --disabled-bg-color: #3B4455;\n",
              "      --disabled-fill-color: #666;\n",
              "  }\n",
              "\n",
              "  .colab-df-quickchart {\n",
              "    background-color: var(--bg-color);\n",
              "    border: none;\n",
              "    border-radius: 50%;\n",
              "    cursor: pointer;\n",
              "    display: none;\n",
              "    fill: var(--fill-color);\n",
              "    height: 32px;\n",
              "    padding: 0;\n",
              "    width: 32px;\n",
              "  }\n",
              "\n",
              "  .colab-df-quickchart:hover {\n",
              "    background-color: var(--hover-bg-color);\n",
              "    box-shadow: 0 1px 2px rgba(60, 64, 67, 0.3), 0 1px 3px 1px rgba(60, 64, 67, 0.15);\n",
              "    fill: var(--button-hover-fill-color);\n",
              "  }\n",
              "\n",
              "  .colab-df-quickchart-complete:disabled,\n",
              "  .colab-df-quickchart-complete:disabled:hover {\n",
              "    background-color: var(--disabled-bg-color);\n",
              "    fill: var(--disabled-fill-color);\n",
              "    box-shadow: none;\n",
              "  }\n",
              "\n",
              "  .colab-df-spinner {\n",
              "    border: 2px solid var(--fill-color);\n",
              "    border-color: transparent;\n",
              "    border-bottom-color: var(--fill-color);\n",
              "    animation:\n",
              "      spin 1s steps(1) infinite;\n",
              "  }\n",
              "\n",
              "  @keyframes spin {\n",
              "    0% {\n",
              "      border-color: transparent;\n",
              "      border-bottom-color: var(--fill-color);\n",
              "      border-left-color: var(--fill-color);\n",
              "    }\n",
              "    20% {\n",
              "      border-color: transparent;\n",
              "      border-left-color: var(--fill-color);\n",
              "      border-top-color: var(--fill-color);\n",
              "    }\n",
              "    30% {\n",
              "      border-color: transparent;\n",
              "      border-left-color: var(--fill-color);\n",
              "      border-top-color: var(--fill-color);\n",
              "      border-right-color: var(--fill-color);\n",
              "    }\n",
              "    40% {\n",
              "      border-color: transparent;\n",
              "      border-right-color: var(--fill-color);\n",
              "      border-top-color: var(--fill-color);\n",
              "    }\n",
              "    60% {\n",
              "      border-color: transparent;\n",
              "      border-right-color: var(--fill-color);\n",
              "    }\n",
              "    80% {\n",
              "      border-color: transparent;\n",
              "      border-right-color: var(--fill-color);\n",
              "      border-bottom-color: var(--fill-color);\n",
              "    }\n",
              "    90% {\n",
              "      border-color: transparent;\n",
              "      border-bottom-color: var(--fill-color);\n",
              "    }\n",
              "  }\n",
              "</style>\n",
              "\n",
              "  <script>\n",
              "    async function quickchart(key) {\n",
              "      const quickchartButtonEl =\n",
              "        document.querySelector('#' + key + ' button');\n",
              "      quickchartButtonEl.disabled = true;  // To prevent multiple clicks.\n",
              "      quickchartButtonEl.classList.add('colab-df-spinner');\n",
              "      try {\n",
              "        const charts = await google.colab.kernel.invokeFunction(\n",
              "            'suggestCharts', [key], {});\n",
              "      } catch (error) {\n",
              "        console.error('Error during call to suggestCharts:', error);\n",
              "      }\n",
              "      quickchartButtonEl.classList.remove('colab-df-spinner');\n",
              "      quickchartButtonEl.classList.add('colab-df-quickchart-complete');\n",
              "    }\n",
              "    (() => {\n",
              "      let quickchartButtonEl =\n",
              "        document.querySelector('#df-6797444f-4512-4fe8-929e-828ca3d58fc5 button');\n",
              "      quickchartButtonEl.style.display =\n",
              "        google.colab.kernel.accessAllowed ? 'block' : 'none';\n",
              "    })();\n",
              "  </script>\n",
              "</div>\n",
              "    </div>\n",
              "  </div>\n"
            ]
          },
          "metadata": {},
          "execution_count": 7
        }
      ]
    },
    {
      "cell_type": "code",
      "source": [
        "# Menghitung kemunculan tiap target (label angka dari 0 sampai 9) pada dataframe dan diurutkan berdasarkan indexnya.\n",
        "label_counts = data['target'].value_counts().sort_index()\n",
        "\n",
        "# Menampilkan hasil penghitungan setiap label dalam bentuk grafik bar menggunakan matplotlib\n",
        "plt.figure(figsize=(8, 5))\n",
        "plt.bar(label_counts.index, label_counts.values)\n",
        "plt.xlabel('Label')\n",
        "plt.ylabel('Jumlah')\n",
        "plt.title('Jumlah data setiap label angka (0-9)')\n",
        "plt.xticks(label_counts.index)\n",
        "plt.show()\n",
        "print(label_counts)"
      ],
      "metadata": {
        "colab": {
          "base_uri": "https://localhost:8080/",
          "height": 678
        },
        "id": "hJJ90I1IvPnL",
        "outputId": "a7bd763f-0758-4537-c5f5-d82e93296e30"
      },
      "execution_count": 8,
      "outputs": [
        {
          "output_type": "display_data",
          "data": {
            "text/plain": [
              "<Figure size 800x500 with 1 Axes>"
            ],
            "image/png": "[encoded data removed]"
          },
          "metadata": {}
        },
        {
          "output_type": "stream",
          "name": "stdout",
          "text": [
            "0    6903\n",
            "1    7877\n",
            "2    6990\n",
            "3    7141\n",
            "4    6824\n",
            "5    6313\n",
            "6    6876\n",
            "7    7293\n",
            "8    6825\n",
            "9    6958\n",
            "Name: target, dtype: int64\n"
          ]
        }
      ]
    },
    {
      "cell_type": "markdown",
      "source": [
        "Berdasarkan [sumber](https://developers.google.com/machine-learning/data-prep/construct/sampling-splitting/imbalanced-data), data imbalance merupakan sebuah keadaan ketika proporsi kelas, target atau label yang ada memiliki perbandingan tidak seimbang. Sehingga dalam sebuah dataset akan ada yang kelas/target/label yang mendominasi jumlahnya dan disebut sebagai kelas mayoritas. Sedangkan kelas/target/label yang lebih kecil disebut dengan kelas minoritas.\n",
        "\n",
        "Cara menentukan apakah sebuah dataset merupakan data imbalance sangat relatif dengan kasus/model yang ingin dibuat. Contohnya meskipun terdapat proporsi kelas yang relatif kecil namun dalam sebuah dataset mengenai penyakit langka, maka dataset yang digunakan tidak terdapat data imbalance karena pada realitanya proporsi kelas tersebut kecil karena merupakan penyakit langka.\n",
        "\n",
        "Cara lain adalah mencari distribusi data dataset tersebut, jika distribusinya normal, maka dataset dapat dikatakan memiliki minimum data imbalance. Salah satu parameter sebuah distribusi adalah distribusi normal adalah jika rata-rata dan mediannya sama."
      ],
      "metadata": {
        "id": "MDjo7BKeogWC"
      }
    },
    {
      "cell_type": "code",
      "source": [
        "# Mencari rata-rata dan median\n",
        "mean = label_counts.mean()\n",
        "median = label_counts.median()\n",
        "print('Mean', mean)\n",
        "print('Median', median)\n",
        "\n",
        "# Persentase selisih\n",
        "print((abs(median-mean)/mean)*100)"
      ],
      "metadata": {
        "colab": {
          "base_uri": "https://localhost:8080/"
        },
        "id": "BWPCIHEC3PKD",
        "outputId": "13f9b40f-5df0-423b-ed2a-e7ec42577a43"
      },
      "execution_count": 9,
      "outputs": [
        {
          "output_type": "stream",
          "name": "stdout",
          "text": [
            "Mean 7000.0\n",
            "Median 6930.5\n",
            "0.9928571428571429\n"
          ]
        }
      ]
    },
    {
      "cell_type": "markdown",
      "source": [
        "Berdasarkan hasil diatas, distribusi data mendekati normal dengan persentase kurang dari 1% selisihnya. Karena distribusi mendekati normal dan penerapan pada realita penulisan angka itu tidak merata, maka diambil kesimpulan **tidak terdapat data imbalance pada dataset yang digunakan.**"
      ],
      "metadata": {
        "id": "5ilajB088YMn"
      }
    },
    {
      "cell_type": "markdown",
      "source": [
        "## **Nomor 2**\n",
        "#### Tampilkan 15 buah citra pertama dari dataset MNIST berserta labelnya. Anda dapat menggunakan referensi dari Job Sheet 03."
      ],
      "metadata": {
        "id": "5Sn9qTmlMQlJ"
      }
    },
    {
      "cell_type": "code",
      "source": [
        "# Tampilkan citra dalam ukuran 28x28 piksel\n",
        "images = mnist.data.to_numpy().reshape(-1, 28, 28)\n",
        "# Simpan label ke dalam variabel labels\n",
        "labels = mnist.target.astype(int)\n",
        "\n",
        "# Tampilkan 15 citra\n",
        "plt.figure(figsize=(15, 4))\n",
        "for i in range(15):\n",
        "    plt.subplot(3, 5, i + 1)\n",
        "    plt.imshow(images[i], cmap='gray') # Tampilkan citra dengan color map grayscale\n",
        "    plt.title(f\"{i+1}. Label: {labels[i]}\")\n",
        "    plt.axis('off')\n",
        "\n",
        "plt.tight_layout()\n",
        "plt.show()"
      ],
      "metadata": {
        "colab": {
          "base_uri": "https://localhost:8080/",
          "height": 407
        },
        "id": "HABUHaI8MPOM",
        "outputId": "47c992c4-f029-4747-a790-2131f8fd3de2"
      },
      "execution_count": 10,
      "outputs": [
        {
          "output_type": "display_data",
          "data": {
            "text/plain": [
              "<Figure size 1500x400 with 15 Axes>"
            ],
            "image/png": "[encoded data removed]"
          },
          "metadata": {}
        }
      ]
    },
    {
      "cell_type": "markdown",
      "source": [
        "## **Nomor 3**"
      ],
      "metadata": {
        "id": "yhf4I94WPEiw"
      }
    },
    {
      "cell_type": "markdown",
      "source": [
        "#### Lakukan proses ekstraksi fitur pada data MNIST. Pada proses ini, Anda diperbolehkan untuk\n",
        "  ##### - Langsung menggunakan nilai asli dari citra (nilai asli setiap pixel dari dataset) sebagai fitur.\n",
        "  ##### - Melakukan ekstraksi fitur lain seperti histogram, PCA, atau yang lainnya. Anda diperbolehkan melakukan ekspolarasi pada proses ini."
      ],
      "metadata": {
        "id": "Vxn8akMHqAnL"
      }
    },
    {
      "cell_type": "markdown",
      "source": [
        "#### Pada langkah ini, saya menggunakan metode ekstraksi fitur dengan PCA dengan jumlah component sebanyak 75. Proses ekstraksi ini akan mengidentifikasi fitur yang menjadi prioritas atau fitur paling penting dalam sebuah dataset."
      ],
      "metadata": {
        "id": "aFeavRkkPtyF"
      }
    },
    {
      "cell_type": "code",
      "source": [
        "# Slice kolom fitur dengan kolom target\n",
        "X = data.drop('target', axis=1)\n",
        "# Ubah tipe data menjadi integer\n",
        "X = X.astype(int)\n",
        "\n",
        "# Lakukan ekstraksi PCA\n",
        "pca = PCA(n_components=75)\n",
        "pc = pca.fit_transform(X)\n",
        "\n",
        "# Susun kembali menjadi dataframe\n",
        "pc_data = pd.DataFrame(data=pc, columns=[f'Pixel{i+1}' for i in range(75)])"
      ],
      "metadata": {
        "id": "Kc3VMSJFQOjD"
      },
      "execution_count": 11,
      "outputs": []
    },
    {
      "cell_type": "markdown",
      "source": [
        "## **Nomor 4**\n",
        "#### Buatlah data training dan data testing menggunakan rasio 70:30, 80:20, 90:10."
      ],
      "metadata": {
        "id": "XSrt73Jgf3Rw"
      }
    },
    {
      "cell_type": "code",
      "source": [
        "X = pc_data\n",
        "y = data.iloc[:, 784]\n",
        "\n",
        "# 70 : 30\n",
        "\n",
        "X_train, X_test, y_train, y_test = train_test_split(X, y, train_size=0.7, test_size=0.3, random_state=911)\n",
        "\n",
        "# 80 : 20\n",
        "\n",
        "X_train2, X_test2, y_train2, y_test2 = train_test_split(X, y, train_size=0.8, test_size=0.2, random_state=911)\n",
        "\n",
        "# 90 : 10\n",
        "X_train3, X_test3, y_train3, y_test3 = train_test_split(X, y, train_size=0.9, test_size=0.1, random_state=911)"
      ],
      "metadata": {
        "id": "RRgdiqULU_Gn"
      },
      "execution_count": 12,
      "outputs": []
    },
    {
      "cell_type": "markdown",
      "source": [
        "## **Nomor 5**\n",
        "#### Lakukan proses klasifikasi dengan menggunakan algoritma Naive Bayes dan SVM.\n",
        "\n",
        "##### - Anda diperbolehkan untuk melakukan tunning parameter.\n",
        "##### - Anda diperbolehkan mengeksplorasi jenis kernel yang digunakan pada SVM."
      ],
      "metadata": {
        "id": "MeltWvVfhGyQ"
      }
    },
    {
      "cell_type": "markdown",
      "source": [
        "### Naive Bayes\n",
        "\n",
        "Saya menggunakan Gaussian Naive Bayes karena dataset yang ada cocok dengan metode tersebut. Metode ini biasanya digunakan ketika fitur-fitur dalam dataset terdistribusi secara normal sehingga cocok untuk dataset ini. Sedangkan Multinomial Naive Bayes cocok untuk klasifikasi teks dengan proses perhitungan, hal tersebut kurang cocok dengan dataset dan tujuan yang ingin dicapai. Selain itu, Naive Bayes Bernoulli yang merupakan metode lain juga kurang cocok karena metode Naive Bayes Bernoulli cocok ketika fiturnya bernilai biner (mencirikan keberadaan antara ada atau tidaknya fitur tersebut)."
      ],
      "metadata": {
        "id": "Uu_7likEheKS"
      }
    },
    {
      "cell_type": "code",
      "source": [
        "# Naive Bayes dengan data training dibanding data testing 70:30\n",
        "gnb = GaussianNB()\n",
        "gnb.fit(X_train, y_train)\n",
        "\n",
        "# Naive Bayes dengan data training dibanding data testing 80:20\n",
        "gnb2 = GaussianNB()\n",
        "gnb2.fit(X_train2, y_train2)\n",
        "\n",
        "# Naive Bayes dengan data training dibanding data testing 90:10\n",
        "gnb3 = GaussianNB()\n",
        "gnb3.fit(X_train3, y_train3)"
      ],
      "metadata": {
        "colab": {
          "base_uri": "https://localhost:8080/",
          "height": 75
        },
        "id": "W-BI5Z_vhPgY",
        "outputId": "c7ac372d-1c4c-4d53-90a9-86aa05a3089f"
      },
      "execution_count": 13,
      "outputs": [
        {
          "output_type": "execute_result",
          "data": {
            "text/plain": [
              "GaussianNB()"
            ],
            "text/html": [
              "<style>#sk-container-id-1 {color: black;background-color: white;}#sk-container-id-1 pre{padding: 0;}#sk-container-id-1 div.sk-toggleable {background-color: white;}#sk-container-id-1 label.sk-toggleable__label {cursor: pointer;display: block;width: 100%;margin-bottom: 0;padding: 0.3em;box-sizing: border-box;text-align: center;}#sk-container-id-1 label.sk-toggleable__label-arrow:before {content: \"▸\";float: left;margin-right: 0.25em;color: #696969;}#sk-container-id-1 label.sk-toggleable__label-arrow:hover:before {color: black;}#sk-container-id-1 div.sk-estimator:hover label.sk-toggleable__label-arrow:before {color: black;}#sk-container-id-1 div.sk-toggleable__content {max-height: 0;max-width: 0;overflow: hidden;text-align: left;background-color: #f0f8ff;}#sk-container-id-1 div.sk-toggleable__content pre {margin: 0.2em;color: black;border-radius: 0.25em;background-color: #f0f8ff;}#sk-container-id-1 input.sk-toggleable__control:checked~div.sk-toggleable__content {max-height: 200px;max-width: 100%;overflow: auto;}#sk-container-id-1 input.sk-toggleable__control:checked~label.sk-toggleable__label-arrow:before {content: \"▾\";}#sk-container-id-1 div.sk-estimator input.sk-toggleable__control:checked~label.sk-toggleable__label {background-color: #d4ebff;}#sk-container-id-1 div.sk-label input.sk-toggleable__control:checked~label.sk-toggleable__label {background-color: #d4ebff;}#sk-container-id-1 input.sk-hidden--visually {border: 0;clip: rect(1px 1px 1px 1px);clip: rect(1px, 1px, 1px, 1px);height: 1px;margin: -1px;overflow: hidden;padding: 0;position: absolute;width: 1px;}#sk-container-id-1 div.sk-estimator {font-family: monospace;background-color: #f0f8ff;border: 1px dotted black;border-radius: 0.25em;box-sizing: border-box;margin-bottom: 0.5em;}#sk-container-id-1 div.sk-estimator:hover {background-color: #d4ebff;}#sk-container-id-1 div.sk-parallel-item::after {content: \"\";width: 100%;border-bottom: 1px solid gray;flex-grow: 1;}#sk-container-id-1 div.sk-label:hover label.sk-toggleable__label {background-color: #d4ebff;}#sk-container-id-1 div.sk-serial::before {content: \"\";position: absolute;border-left: 1px solid gray;box-sizing: border-box;top: 0;bottom: 0;left: 50%;z-index: 0;}#sk-container-id-1 div.sk-serial {display: flex;flex-direction: column;align-items: center;background-color: white;padding-right: 0.2em;padding-left: 0.2em;position: relative;}#sk-container-id-1 div.sk-item {position: relative;z-index: 1;}#sk-container-id-1 div.sk-parallel {display: flex;align-items: stretch;justify-content: center;background-color: white;position: relative;}#sk-container-id-1 div.sk-item::before, #sk-container-id-1 div.sk-parallel-item::before {content: \"\";position: absolute;border-left: 1px solid gray;box-sizing: border-box;top: 0;bottom: 0;left: 50%;z-index: -1;}#sk-container-id-1 div.sk-parallel-item {display: flex;flex-direction: column;z-index: 1;position: relative;background-color: white;}#sk-container-id-1 div.sk-parallel-item:first-child::after {align-self: flex-end;width: 50%;}#sk-container-id-1 div.sk-parallel-item:last-child::after {align-self: flex-start;width: 50%;}#sk-container-id-1 div.sk-parallel-item:only-child::after {width: 0;}#sk-container-id-1 div.sk-dashed-wrapped {border: 1px dashed gray;margin: 0 0.4em 0.5em 0.4em;box-sizing: border-box;padding-bottom: 0.4em;background-color: white;}#sk-container-id-1 div.sk-label label {font-family: monospace;font-weight: bold;display: inline-block;line-height: 1.2em;}#sk-container-id-1 div.sk-label-container {text-align: center;}#sk-container-id-1 div.sk-container {/* jupyter's `normalize.less` sets `[hidden] { display: none; }` but bootstrap.min.css set `[hidden] { display: none !important; }` so we also need the `!important` here to be able to override the default hidden behavior on the sphinx rendered scikit-learn.org. See: https://github.com/scikit-learn/scikit-learn/issues/21755 */display: inline-block !important;position: relative;}#sk-container-id-1 div.sk-text-repr-fallback {display: none;}</style><div id=\"sk-container-id-1\" class=\"sk-top-container\"><div class=\"sk-text-repr-fallback\"><pre>GaussianNB()</pre><b>In a Jupyter environment, please rerun this cell to show the HTML representation or trust the notebook. <br />On GitHub, the HTML representation is unable to render, please try loading this page with nbviewer.org.</b></div><div class=\"sk-container\" hidden><div class=\"sk-item\"><div class=\"sk-estimator sk-toggleable\"><input class=\"sk-toggleable__control sk-hidden--visually\" id=\"sk-estimator-id-1\" type=\"checkbox\" checked><label for=\"sk-estimator-id-1\" class=\"sk-toggleable__label sk-toggleable__label-arrow\">GaussianNB</label><div class=\"sk-toggleable__content\"><pre>GaussianNB()</pre></div></div></div></div></div>"
            ]
          },
          "metadata": {},
          "execution_count": 13
        }
      ]
    },
    {
      "cell_type": "markdown",
      "source": [
        "### SVM"
      ],
      "metadata": {
        "id": "Q5d24L67uvTW"
      }
    },
    {
      "cell_type": "code",
      "source": [
        "# Fitting SVM 70:30\n",
        "svc = SVC(kernel='rbf')\n",
        "svc.fit(X_train, y_train)\n",
        "\n",
        "# Fitting SVM 80:20\n",
        "svc2 = SVC(kernel='rbf')\n",
        "svc2.fit(X_train2, y_train2)\n",
        "\n",
        "# Fitting SVM 90:10\n",
        "svc3 = SVC(kernel='rbf')\n",
        "svc3.fit(X_train3, y_train3)"
      ],
      "metadata": {
        "colab": {
          "base_uri": "https://localhost:8080/",
          "height": 75
        },
        "id": "js76vaLius2R",
        "outputId": "d1cd4bb7-3750-48ad-f07b-f20e463ee2ad"
      },
      "execution_count": 14,
      "outputs": [
        {
          "output_type": "execute_result",
          "data": {
            "text/plain": [
              "SVC()"
            ],
            "text/html": [
              "<style>#sk-container-id-2 {color: black;background-color: white;}#sk-container-id-2 pre{padding: 0;}#sk-container-id-2 div.sk-toggleable {background-color: white;}#sk-container-id-2 label.sk-toggleable__label {cursor: pointer;display: block;width: 100%;margin-bottom: 0;padding: 0.3em;box-sizing: border-box;text-align: center;}#sk-container-id-2 label.sk-toggleable__label-arrow:before {content: \"▸\";float: left;margin-right: 0.25em;color: #696969;}#sk-container-id-2 label.sk-toggleable__label-arrow:hover:before {color: black;}#sk-container-id-2 div.sk-estimator:hover label.sk-toggleable__label-arrow:before {color: black;}#sk-container-id-2 div.sk-toggleable__content {max-height: 0;max-width: 0;overflow: hidden;text-align: left;background-color: #f0f8ff;}#sk-container-id-2 div.sk-toggleable__content pre {margin: 0.2em;color: black;border-radius: 0.25em;background-color: #f0f8ff;}#sk-container-id-2 input.sk-toggleable__control:checked~div.sk-toggleable__content {max-height: 200px;max-width: 100%;overflow: auto;}#sk-container-id-2 input.sk-toggleable__control:checked~label.sk-toggleable__label-arrow:before {content: \"▾\";}#sk-container-id-2 div.sk-estimator input.sk-toggleable__control:checked~label.sk-toggleable__label {background-color: #d4ebff;}#sk-container-id-2 div.sk-label input.sk-toggleable__control:checked~label.sk-toggleable__label {background-color: #d4ebff;}#sk-container-id-2 input.sk-hidden--visually {border: 0;clip: rect(1px 1px 1px 1px);clip: rect(1px, 1px, 1px, 1px);height: 1px;margin: -1px;overflow: hidden;padding: 0;position: absolute;width: 1px;}#sk-container-id-2 div.sk-estimator {font-family: monospace;background-color: #f0f8ff;border: 1px dotted black;border-radius: 0.25em;box-sizing: border-box;margin-bottom: 0.5em;}#sk-container-id-2 div.sk-estimator:hover {background-color: #d4ebff;}#sk-container-id-2 div.sk-parallel-item::after {content: \"\";width: 100%;border-bottom: 1px solid gray;flex-grow: 1;}#sk-container-id-2 div.sk-label:hover label.sk-toggleable__label {background-color: #d4ebff;}#sk-container-id-2 div.sk-serial::before {content: \"\";position: absolute;border-left: 1px solid gray;box-sizing: border-box;top: 0;bottom: 0;left: 50%;z-index: 0;}#sk-container-id-2 div.sk-serial {display: flex;flex-direction: column;align-items: center;background-color: white;padding-right: 0.2em;padding-left: 0.2em;position: relative;}#sk-container-id-2 div.sk-item {position: relative;z-index: 1;}#sk-container-id-2 div.sk-parallel {display: flex;align-items: stretch;justify-content: center;background-color: white;position: relative;}#sk-container-id-2 div.sk-item::before, #sk-container-id-2 div.sk-parallel-item::before {content: \"\";position: absolute;border-left: 1px solid gray;box-sizing: border-box;top: 0;bottom: 0;left: 50%;z-index: -1;}#sk-container-id-2 div.sk-parallel-item {display: flex;flex-direction: column;z-index: 1;position: relative;background-color: white;}#sk-container-id-2 div.sk-parallel-item:first-child::after {align-self: flex-end;width: 50%;}#sk-container-id-2 div.sk-parallel-item:last-child::after {align-self: flex-start;width: 50%;}#sk-container-id-2 div.sk-parallel-item:only-child::after {width: 0;}#sk-container-id-2 div.sk-dashed-wrapped {border: 1px dashed gray;margin: 0 0.4em 0.5em 0.4em;box-sizing: border-box;padding-bottom: 0.4em;background-color: white;}#sk-container-id-2 div.sk-label label {font-family: monospace;font-weight: bold;display: inline-block;line-height: 1.2em;}#sk-container-id-2 div.sk-label-container {text-align: center;}#sk-container-id-2 div.sk-container {/* jupyter's `normalize.less` sets `[hidden] { display: none; }` but bootstrap.min.css set `[hidden] { display: none !important; }` so we also need the `!important` here to be able to override the default hidden behavior on the sphinx rendered scikit-learn.org. See: https://github.com/scikit-learn/scikit-learn/issues/21755 */display: inline-block !important;position: relative;}#sk-container-id-2 div.sk-text-repr-fallback {display: none;}</style><div id=\"sk-container-id-2\" class=\"sk-top-container\"><div class=\"sk-text-repr-fallback\"><pre>SVC()</pre><b>In a Jupyter environment, please rerun this cell to show the HTML representation or trust the notebook. <br />On GitHub, the HTML representation is unable to render, please try loading this page with nbviewer.org.</b></div><div class=\"sk-container\" hidden><div class=\"sk-item\"><div class=\"sk-estimator sk-toggleable\"><input class=\"sk-toggleable__control sk-hidden--visually\" id=\"sk-estimator-id-2\" type=\"checkbox\" checked><label for=\"sk-estimator-id-2\" class=\"sk-toggleable__label sk-toggleable__label-arrow\">SVC</label><div class=\"sk-toggleable__content\"><pre>SVC()</pre></div></div></div></div></div>"
            ]
          },
          "metadata": {},
          "execution_count": 14
        }
      ]
    },
    {
      "cell_type": "markdown",
      "source": [
        "## **Nomor 6**\n",
        "#### Evaluasi model yang Anda buat terhadap data training dan data testing.\n",
        "\n",
        "##### - Gunakan metric accuracy untuk mengetahui tingkat akurasi data training dan data testing.\n",
        "##### - Gunakan fungsi classification_report untuk mengetahui performa model secara holistik.\n",
        "##### - Gunakan confusion matrix untuk mengetahui tingkat ketepatan pelabelan."
      ],
      "metadata": {
        "id": "m1gpMeYziN8x"
      }
    },
    {
      "cell_type": "markdown",
      "source": [
        "### Naive Bayes"
      ],
      "metadata": {
        "id": "4Nj8TXGlrRPs"
      }
    },
    {
      "cell_type": "markdown",
      "source": [
        "#### Metric Accuracy"
      ],
      "metadata": {
        "id": "tQdN0sqEspzM"
      }
    },
    {
      "cell_type": "code",
      "source": [
        "# Metric Accuracy\n",
        "# 70 : 30\n",
        "\n",
        "# Prediksi dengan data training\n",
        "y_train_pred = gnb.predict(X_train)\n",
        "\n",
        "# Evaluasi akurasi training\n",
        "acc_train = accuracy_score(y_train, y_train_pred)\n",
        "\n",
        "# Prediksi test data\n",
        "y_test_pred = gnb.predict(X_test)\n",
        "\n",
        "# Evaluasi model dengan metric akurasi\n",
        "acc_test = accuracy_score(y_test, y_test_pred)\n",
        "\n",
        "# 80 : 20\n",
        "\n",
        "# Prediksi dengan data training\n",
        "y_train_pred2 = gnb2.predict(X_train2)\n",
        "\n",
        "# Evaluasi akurasi training\n",
        "acc_train2 = accuracy_score(y_train2, y_train_pred2)\n",
        "\n",
        "# Prediksi test data\n",
        "gnb_y_test_pred2 = gnb2.predict(X_test2)\n",
        "\n",
        "# Evaluasi model dengan metric akurasi\n",
        "acc_test2 = accuracy_score(y_test2, gnb_y_test_pred2)\n",
        "\n",
        "# 90 : 10\n",
        "\n",
        "# Prediksi dengan data training\n",
        "y_train_pred3 = gnb3.predict(X_train3)\n",
        "\n",
        "# Evaluasi akurasi training\n",
        "acc_train3 = accuracy_score(y_train3, y_train_pred3)\n",
        "\n",
        "# Prediksi test data\n",
        "y_test_pred3 = gnb3.predict(X_test3)\n",
        "\n",
        "# Evaluasi model dengan metric akurasi\n",
        "acc_test3 = accuracy_score(y_test3, y_test_pred3)\n",
        "\n",
        "# Print hasil evaluasi metric akurasi 70:30\n",
        "print(f'Hasil akurasi data train 70:30 : {acc_train}')\n",
        "print(f'Hasil akurasi data test 70:30 : {acc_test}')\n",
        "# Print hasil evaluasi metric akurasi 80:20\n",
        "print(f'\\nHasil akurasi data train 80:20 : {acc_train2}')\n",
        "print(f'Hasil akurasi data test 80:20 : {acc_test2}')\n",
        "# Print hasil evaluasi metric akurasi 90:10\n",
        "print(f'\\nHasil akurasi data train 90:10 : {acc_train3}')\n",
        "print(f'Hasil akurasi data test 90:10 : {acc_test3}')\n"
      ],
      "metadata": {
        "colab": {
          "base_uri": "https://localhost:8080/"
        },
        "id": "wymnJmwgiPva",
        "outputId": "4bc3f0f1-7d4a-4e68-e4a9-0186f82c2dd1"
      },
      "execution_count": 15,
      "outputs": [
        {
          "output_type": "stream",
          "name": "stdout",
          "text": [
            "Hasil akurasi data train 70:30 : 0.8745714285714286\n",
            "Hasil akurasi data test 70:30 : 0.8752380952380953\n",
            "\n",
            "Hasil akurasi data train 80:20 : 0.8748035714285715\n",
            "Hasil akurasi data test 80:20 : 0.8748571428571429\n",
            "\n",
            "Hasil akurasi data train 90:10 : 0.8748095238095238\n",
            "Hasil akurasi data test 90:10 : 0.8697142857142857\n"
          ]
        }
      ]
    },
    {
      "cell_type": "markdown",
      "source": [
        "#### Classification Report"
      ],
      "metadata": {
        "id": "o2i1eSG3swPl"
      }
    },
    {
      "cell_type": "code",
      "source": [
        "# Print hasil classification Report 70:30\n",
        "print(f'Hasil akurasi data train 70:30 : {classification_report(y_test, y_test_pred)}')\n",
        "# Print hasil classification Report 80:20\n",
        "print(f'\\nHasil akurasi data train 80:20 : {classification_report(y_test2, gnb_y_test_pred2)}')\n",
        "# Print hasil classification Report 90:10\n",
        "print(f'\\nHasil akurasi data train 90:10 : {classification_report(y_test3, y_test_pred3)}')"
      ],
      "metadata": {
        "colab": {
          "base_uri": "https://localhost:8080/"
        },
        "id": "uOYFZC43nZ4Y",
        "outputId": "c540daa5-8419-49b1-8fd7-e4e4d1071464"
      },
      "execution_count": 16,
      "outputs": [
        {
          "output_type": "stream",
          "name": "stdout",
          "text": [
            "Hasil akurasi data train 70:30 :               precision    recall  f1-score   support\n",
            "\n",
            "           0       0.96      0.94      0.95      1998\n",
            "           1       0.98      0.94      0.96      2380\n",
            "           2       0.79      0.87      0.82      2131\n",
            "           3       0.84      0.83      0.83      2179\n",
            "           4       0.88      0.85      0.87      2094\n",
            "           5       0.78      0.85      0.81      1792\n",
            "           6       0.94      0.92      0.93      2116\n",
            "           7       0.93      0.86      0.90      2173\n",
            "           8       0.83      0.85      0.84      2041\n",
            "           9       0.83      0.84      0.83      2096\n",
            "\n",
            "    accuracy                           0.88     21000\n",
            "   macro avg       0.88      0.87      0.87     21000\n",
            "weighted avg       0.88      0.88      0.88     21000\n",
            "\n",
            "\n",
            "Hasil akurasi data train 80:20 :               precision    recall  f1-score   support\n",
            "\n",
            "           0       0.96      0.94      0.95      1320\n",
            "           1       0.98      0.94      0.96      1599\n",
            "           2       0.78      0.86      0.82      1439\n",
            "           3       0.84      0.83      0.83      1446\n",
            "           4       0.88      0.86      0.87      1377\n",
            "           5       0.78      0.86      0.82      1183\n",
            "           6       0.94      0.92      0.93      1407\n",
            "           7       0.93      0.86      0.89      1477\n",
            "           8       0.83      0.85      0.84      1363\n",
            "           9       0.83      0.83      0.83      1389\n",
            "\n",
            "    accuracy                           0.87     14000\n",
            "   macro avg       0.88      0.87      0.87     14000\n",
            "weighted avg       0.88      0.87      0.88     14000\n",
            "\n",
            "\n",
            "Hasil akurasi data train 90:10 :               precision    recall  f1-score   support\n",
            "\n",
            "           0       0.95      0.94      0.95       645\n",
            "           1       0.98      0.93      0.95       811\n",
            "           2       0.77      0.85      0.81       715\n",
            "           3       0.83      0.82      0.82       702\n",
            "           4       0.87      0.85      0.86       702\n",
            "           5       0.79      0.85      0.82       609\n",
            "           6       0.94      0.92      0.93       692\n",
            "           7       0.93      0.84      0.89       719\n",
            "           8       0.83      0.85      0.84       708\n",
            "           9       0.82      0.84      0.83       697\n",
            "\n",
            "    accuracy                           0.87      7000\n",
            "   macro avg       0.87      0.87      0.87      7000\n",
            "weighted avg       0.87      0.87      0.87      7000\n",
            "\n"
          ]
        }
      ]
    },
    {
      "cell_type": "markdown",
      "source": [
        "#### Confusion Matrix"
      ],
      "metadata": {
        "id": "Yag-_ZOBstE_"
      }
    },
    {
      "cell_type": "code",
      "source": [
        "# 70 : 30\n",
        "mat = confusion_matrix(y_test, y_test_pred)\n",
        "sns.heatmap(mat.T, square=True, annot=True, fmt='d', cbar=False,\n",
        "            xticklabels=mnist.target_names,\n",
        "            yticklabels=mnist.target_names)\n",
        "plt.xlabel('true label')\n",
        "plt.ylabel('predicted label')"
      ],
      "metadata": {
        "colab": {
          "base_uri": "https://localhost:8080/",
          "height": 466
        },
        "id": "a85YmDE7s69q",
        "outputId": "1431ad04-0234-4619-b357-3ec665d8c2a3"
      },
      "execution_count": 17,
      "outputs": [
        {
          "output_type": "execute_result",
          "data": {
            "text/plain": [
              "Text(113.9222222222222, 0.5, 'predicted label')"
            ]
          },
          "metadata": {},
          "execution_count": 17
        },
        {
          "output_type": "display_data",
          "data": {
            "text/plain": [
              "<Figure size 640x480 with 1 Axes>"
            ],
            "image/png": "[encoded data removed]"
          },
          "metadata": {}
        }
      ]
    },
    {
      "cell_type": "code",
      "source": [
        "# 80 : 20\n",
        "mat2 = confusion_matrix(y_test2, gnb_y_test_pred2)\n",
        "sns.heatmap(mat.T, square=True, annot=True, fmt='d', cbar=False,\n",
        "            xticklabels=mnist.target_names,\n",
        "            yticklabels=mnist.target_names)\n",
        "plt.xlabel('true label')\n",
        "plt.ylabel('predicted label')"
      ],
      "metadata": {
        "colab": {
          "base_uri": "https://localhost:8080/",
          "height": 466
        },
        "id": "YAVf1_OTxlUa",
        "outputId": "f4e28808-832c-44ae-efd7-579724983a49"
      },
      "execution_count": 18,
      "outputs": [
        {
          "output_type": "execute_result",
          "data": {
            "text/plain": [
              "Text(113.9222222222222, 0.5, 'predicted label')"
            ]
          },
          "metadata": {},
          "execution_count": 18
        },
        {
          "output_type": "display_data",
          "data": {
            "text/plain": [
              "<Figure size 640x480 with 1 Axes>"
            ],
            "image/png": "[encoded data removed]"
          },
          "metadata": {}
        }
      ]
    },
    {
      "cell_type": "code",
      "source": [
        "# 90 : 10\n",
        "mat = confusion_matrix(y_test3, y_test_pred3)\n",
        "sns.heatmap(mat.T, square=True, annot=True, fmt='d', cbar=False,\n",
        "            xticklabels=mnist.target_names,\n",
        "            yticklabels=mnist.target_names)\n",
        "plt.xlabel('true label')\n",
        "plt.ylabel('predicted label')"
      ],
      "metadata": {
        "colab": {
          "base_uri": "https://localhost:8080/",
          "height": 466
        },
        "id": "-sXAFlXrxpLw",
        "outputId": "1c5fc413-96cf-42e2-f4a8-ea2d0563d5b6"
      },
      "execution_count": 19,
      "outputs": [
        {
          "output_type": "execute_result",
          "data": {
            "text/plain": [
              "Text(113.9222222222222, 0.5, 'predicted label')"
            ]
          },
          "metadata": {},
          "execution_count": 19
        },
        {
          "output_type": "display_data",
          "data": {
            "text/plain": [
              "<Figure size 640x480 with 1 Axes>"
            ],
            "image/png": "[encoded data removed]"
          },
          "metadata": {}
        }
      ]
    },
    {
      "cell_type": "markdown",
      "source": [
        "### SVM"
      ],
      "metadata": {
        "id": "CcDCfA-hxzI2"
      }
    },
    {
      "cell_type": "markdown",
      "source": [
        "#### Metric Accuracy"
      ],
      "metadata": {
        "id": "e9cqYXTdx6qZ"
      }
    },
    {
      "cell_type": "code",
      "source": [
        "# Metric Accuracy\n",
        "# 70 : 30\n",
        "\n",
        "# Prediksi dengan data training\n",
        "y_train_pred = svc.predict(X_train)\n",
        "\n",
        "# Evaluasi akurasi training\n",
        "svc_acc_train = accuracy_score(y_train, y_train_pred)\n",
        "\n",
        "# Prediksi test data\n",
        "y_test_pred = svc.predict(X_test)\n",
        "\n",
        "# Evaluasi model dengan metric akurasi\n",
        "svc_acc_test = accuracy_score(y_test, y_test_pred)\n",
        "\n",
        "# 80 : 20\n",
        "\n",
        "# Prediksi dengan data training\n",
        "y_train_pred2 = svc2.predict(X_train2)\n",
        "\n",
        "# Evaluasi akurasi training\n",
        "svc_acc_train2 = accuracy_score(y_train2, y_train_pred2)\n",
        "\n",
        "# Prediksi test data\n",
        "y_test_pred2 = svc2.predict(X_test2)\n",
        "\n",
        "# Evaluasi model dengan metric akurasi\n",
        "svc_acc_test2 = accuracy_score(y_test2, y_test_pred2)\n",
        "\n",
        "# 90 : 10\n",
        "\n",
        "# Prediksi dengan data training\n",
        "y_train_pred3 = svc3.predict(X_train3)\n",
        "\n",
        "# Evaluasi akurasi training\n",
        "svc_acc_train3 = accuracy_score(y_train3, y_train_pred3)\n",
        "\n",
        "# Prediksi test data\n",
        "y_test_pred3 = svc3.predict(X_test3)\n",
        "\n",
        "# Evaluasi model dengan metric akurasi\n",
        "svc_acc_test3 = accuracy_score(y_test3, y_test_pred3)\n",
        "\n",
        "# Print hasil evaluasi metric akurasi 70:30\n",
        "print(f'Hasil akurasi data train 70:30 : {svc_acc_train}')\n",
        "print(f'Hasil akurasi data test 70:30 : {svc_acc_test}')\n",
        "# Print hasil evaluasi metric akurasi 80:20\n",
        "print(f'\\nHasil akurasi data train 80:20 : {svc_acc_train2}')\n",
        "print(f'Hasil akurasi data test 80:20 : {svc_acc_test2}')\n",
        "# Print hasil evaluasi metric akurasi 90:10\n",
        "print(f'\\nHasil akurasi data train 90:10 : {svc_acc_train3}')\n",
        "print(f'Hasil akurasi data test 90:10 : {svc_acc_test3}')"
      ],
      "metadata": {
        "id": "gOppQpfCyICj"
      },
      "execution_count": null,
      "outputs": []
    },
    {
      "cell_type": "markdown",
      "source": [
        "#### Classification Report"
      ],
      "metadata": {
        "id": "G69JN8Xrx8r_"
      }
    },
    {
      "cell_type": "code",
      "source": [
        "# Print hasil classification Report 70:30\n",
        "print(f'Hasil akurasi data train 70:30 : {classification_report(y_test, y_test_pred)}')\n",
        "# Print hasil classification Report 80:20\n",
        "print(f'\\nHasil akurasi data train 80:20 : {classification_report(y_test2, y_test_pred2)}')\n",
        "# Print hasil classification Report 90:10\n",
        "print(f'\\nHasil akurasi data train 90:10 : {classification_report(y_test3, y_test_pred3)}')"
      ],
      "metadata": {
        "id": "jN5k4XOOyIm4"
      },
      "execution_count": null,
      "outputs": []
    },
    {
      "cell_type": "markdown",
      "source": [
        "#### Confusion Matrix"
      ],
      "metadata": {
        "id": "hTgActhlx-nj"
      }
    },
    {
      "cell_type": "code",
      "source": [
        "# 70 : 30\n",
        "mat = confusion_matrix(y_test, y_test_pred)\n",
        "sns.heatmap(mat.T, square=True, annot=True, fmt='d', cbar=False,\n",
        "            xticklabels=mnist.target_names,\n",
        "            yticklabels=mnist.target_names)\n",
        "plt.xlabel('true label')\n",
        "plt.ylabel('predicted label')"
      ],
      "metadata": {
        "id": "aCx6_1htx3RT"
      },
      "execution_count": null,
      "outputs": []
    },
    {
      "cell_type": "code",
      "source": [
        "# 80 : 20\n",
        "mat = confusion_matrix(y_test2, y_test_pred2)\n",
        "sns.heatmap(mat.T, square=True, annot=True, fmt='d', cbar=False,\n",
        "            xticklabels=mnist.target_names,\n",
        "            yticklabels=mnist.target_names)\n",
        "plt.xlabel('true label')\n",
        "plt.ylabel('predicted label')"
      ],
      "metadata": {
        "id": "GHat7mbL0Kk6"
      },
      "execution_count": null,
      "outputs": []
    },
    {
      "cell_type": "code",
      "source": [
        "# 90 : 10\n",
        "mat = confusion_matrix(y_test3, y_test_pred3)\n",
        "sns.heatmap(mat.T, square=True, annot=True, fmt='d', cbar=False,\n",
        "            xticklabels=mnist.target_names,\n",
        "            yticklabels=mnist.target_names)\n",
        "plt.xlabel('true label')\n",
        "plt.ylabel('predicted label')"
      ],
      "metadata": {
        "id": "jQRuzvTn0LBn"
      },
      "execution_count": null,
      "outputs": []
    },
    {
      "cell_type": "markdown",
      "source": [
        "## **Nomor 7**\n",
        "#### Tampilkan citra data testing berserta hasil pelabelannya. Anda dapat menggunakan Job Sheet 03 sebagai acuan."
      ],
      "metadata": {
        "id": "uM87Gira1jGr"
      }
    },
    {
      "cell_type": "code",
      "source": [
        "plt.figure(figsize=(15, 6))\n",
        "for i in range(5):\n",
        "    plt.subplot(1, 5, i + 1)\n",
        "    plt.imshow(X_test2[i].reshape(28, 28), cmap=gray)\n",
        "    plt.title(f\"Prediksi: {gnb_y_test_pred2[i]}\\nAktual: {y_test2[i]}\")\n",
        "plt.show()"
      ],
      "metadata": {
        "id": "d3_WmyWG267q"
      },
      "execution_count": null,
      "outputs": []
    },
    {
      "cell_type": "code",
      "source": [
        "plt.figure(figsize=(12, 6))\n",
        "for i in range(5):\n",
        "    plt.subplot(1, 5, i + 1)\n",
        "    plt.imshow(X_test2[i].reshape(28, 28), cmap=gray)\n",
        "    plt.title(f\"Prediksi: {y_test_pred2[i]}\\nAktual: {y_test2[i]}\")\n",
        "plt.show()"
      ],
      "metadata": {
        "id": "q91d5uu71lNG"
      },
      "execution_count": null,
      "outputs": []
    },
    {
      "cell_type": "markdown",
      "source": [
        "## **Nomor 8**\n",
        "#### Apa model terbaik yang Anda dapatkan? Bagaimana konfigurasinya? Berapa tingkat akurasi yang didapatkan? Jelaskan!\n",
        "\n",
        "Berdasarkan langkah-langkah yang telah dilakukan, model terbaik yang didapat adalah melalui metode SVC dengan konfigurasi kernel rbf dan menggunakan ekstraksi fitur PCA. Tingkat akurasi yang didapat adalah 0.99, namun terdapat kelemahan yaitu proses keseluruhan metode SVC lebih lambat dibandingkan dengan metode Naive Bayes."
      ],
      "metadata": {
        "id": "pJ2JfFWA3Cy2"
      }
    },
    {
      "cell_type": "code",
      "source": [],
      "metadata": {
        "id": "aQzIvcYR7yFP"
      },
      "execution_count": null,
      "outputs": []
    }
  ]
}